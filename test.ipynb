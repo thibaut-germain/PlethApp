{
 "cells": [
  {
   "cell_type": "code",
   "execution_count": 1,
   "metadata": {},
   "outputs": [],
   "source": [
    "import numpy as np\n",
    "import pandas as pd\n",
    "from matplotlib import pyplot as plt\n",
    "from pathlib import Path\n",
    "import pyedflib\n",
    "import plotly.graph_objects as go\n",
    "from plotly.subplots import make_subplots\n",
    "import json\n",
    "import pickle"
   ]
  },
  {
   "cell_type": "code",
   "execution_count": 2,
   "metadata": {},
   "outputs": [],
   "source": [
    "DATA_PATH = Path('/Volumes/Ultra Touch/Data/mice_cholinesterase/physostigmine')\n",
    "SEG_PATH = Path('/Volumes/Ultra Touch/MOUSE/mouse_list.csv')\n",
    "\n",
    "SAMPFREQ = 2000\n",
    "DOWN_SAMPFREQ = 250\n",
    "PROMINENCE = 0.03\n",
    "WLEN = 2\n",
    "MIN_CYCLE = 0.1\n",
    "MAX_CYCLE = 0.3 \n",
    "TRAINING_SIZE = 30 \n",
    "INTERVAL = 60 \n",
    "N_IN_CLUSTER = 5\n",
    "N_OUT_CLUSTER = 5 \n",
    "IN_D = 0.2\n",
    "OUT_D =0.2\n",
    "N_ITER = 10\n",
    "MAX_WARPING = 0.06\n",
    "QUNATILE = 0.95\n",
    "NJOBS =1\n",
    "VERBOSE= True"
   ]
  },
  {
   "cell_type": "code",
   "execution_count": 3,
   "metadata": {},
   "outputs": [],
   "source": [
    "fct = lambda x: (np.array([int(t) for t in x.split(':')]) @ np.array([3600,60,1]).reshape(-1,1))[0]*SAMPFREQ"
   ]
  },
  {
   "cell_type": "code",
   "execution_count": 4,
   "metadata": {},
   "outputs": [
    {
     "data": {
      "text/html": [
       "<div>\n",
       "<style scoped>\n",
       "    .dataframe tbody tr th:only-of-type {\n",
       "        vertical-align: middle;\n",
       "    }\n",
       "\n",
       "    .dataframe tbody tr th {\n",
       "        vertical-align: top;\n",
       "    }\n",
       "\n",
       "    .dataframe thead th {\n",
       "        text-align: right;\n",
       "    }\n",
       "</style>\n",
       "<table border=\"1\" class=\"dataframe\">\n",
       "  <thead>\n",
       "    <tr style=\"text-align: right;\">\n",
       "      <th></th>\n",
       "      <th>filename</th>\n",
       "      <th>genotype</th>\n",
       "      <th>before_start</th>\n",
       "      <th>before_end</th>\n",
       "      <th>after_start</th>\n",
       "      <th>after_end</th>\n",
       "      <th>arret</th>\n",
       "    </tr>\n",
       "  </thead>\n",
       "  <tbody>\n",
       "    <tr>\n",
       "      <th>1</th>\n",
       "      <td>20170519_prima#12_physo0,33_i5_e60_ep30.EDF</td>\n",
       "      <td>prima</td>\n",
       "      <td>30000</td>\n",
       "      <td>2396000</td>\n",
       "      <td>2588000</td>\n",
       "      <td>6016000</td>\n",
       "      <td>fin</td>\n",
       "    </tr>\n",
       "    <tr>\n",
       "      <th>3</th>\n",
       "      <td>20170328_prima#85_physo0,33_i5_e60_ep30.EDF</td>\n",
       "      <td>prima</td>\n",
       "      <td>10000</td>\n",
       "      <td>1796000</td>\n",
       "      <td>2016000</td>\n",
       "      <td>6004000</td>\n",
       "      <td>fin</td>\n",
       "    </tr>\n",
       "    <tr>\n",
       "      <th>5</th>\n",
       "      <td>20170328_colq1#49_physo0,33_i5_e60_ep30.EDF</td>\n",
       "      <td>colq</td>\n",
       "      <td>10000</td>\n",
       "      <td>2396000</td>\n",
       "      <td>2556000</td>\n",
       "      <td>6008000</td>\n",
       "      <td>fin</td>\n",
       "    </tr>\n",
       "    <tr>\n",
       "      <th>7</th>\n",
       "      <td>20170324_del1#11_physo_i5_e60_ep30.EDF</td>\n",
       "      <td>del1</td>\n",
       "      <td>30000</td>\n",
       "      <td>2396000</td>\n",
       "      <td>2584000</td>\n",
       "      <td>6008000</td>\n",
       "      <td>fin</td>\n",
       "    </tr>\n",
       "    <tr>\n",
       "      <th>9</th>\n",
       "      <td>20170324_prima#4_physo_i5_e60_ep30.EDF</td>\n",
       "      <td>prima</td>\n",
       "      <td>10000</td>\n",
       "      <td>1794000</td>\n",
       "      <td>2016000</td>\n",
       "      <td>6008000</td>\n",
       "      <td>fin</td>\n",
       "    </tr>\n",
       "  </tbody>\n",
       "</table>\n",
       "</div>"
      ],
      "text/plain": [
       "                                      filename genotype  before_start  \\\n",
       "1  20170519_prima#12_physo0,33_i5_e60_ep30.EDF    prima         30000   \n",
       "3  20170328_prima#85_physo0,33_i5_e60_ep30.EDF    prima         10000   \n",
       "5  20170328_colq1#49_physo0,33_i5_e60_ep30.EDF     colq         10000   \n",
       "7       20170324_del1#11_physo_i5_e60_ep30.EDF     del1         30000   \n",
       "9       20170324_prima#4_physo_i5_e60_ep30.EDF    prima         10000   \n",
       "\n",
       "   before_end  after_start  after_end arret  \n",
       "1     2396000      2588000    6016000   fin  \n",
       "3     1796000      2016000    6004000   fin  \n",
       "5     2396000      2556000    6008000   fin  \n",
       "7     2396000      2584000    6008000   fin  \n",
       "9     1794000      2016000    6008000   fin  "
      ]
     },
     "execution_count": 4,
     "metadata": {},
     "output_type": "execute_result"
    }
   ],
   "source": [
    "df = pd.read_csv(SEG_PATH, delimiter=';',index_col=0).reset_index(drop=True)\n",
    "df = df.dropna()\n",
    "df['before_start'] =  df['before_start'].apply(fct)\n",
    "df['before_end'] =  df['before_end'].apply(fct)\n",
    "df['after_start'] =  df['after_start'].apply(fct)\n",
    "df['after_end'] =  df['after_end'].apply(fct)\n",
    "df.head()"
   ]
  },
  {
   "cell_type": "code",
   "execution_count": 5,
   "metadata": {},
   "outputs": [],
   "source": [
    "def get_data(path): \n",
    "    f = pyedflib.EdfReader(str(path))\n",
    "    sig = -f.readSignal(1)\n",
    "    return sig.astype('float')"
   ]
  },
  {
   "cell_type": "code",
   "execution_count": 6,
   "metadata": {},
   "outputs": [],
   "source": [
    "lst = []\n",
    "for line in df.values[:2]:\n",
    "    data = get_data(DATA_PATH/line[0])\n",
    "    data1 = data[line[4]:line[5]]\n",
    "    lst.append(data1)\n",
    "    data2= data[line[2]:line[3]]\n",
    "    lst.append(data2)\n",
    "\n",
    "\n",
    "arr = np.array(lst,dtype=object)\n"
   ]
  },
  {
   "cell_type": "code",
   "execution_count": 7,
   "metadata": {},
   "outputs": [],
   "source": [
    "for i,ts in enumerate(arr): \n",
    "    np.savetxt(f'/Users/tgermain/Documents/test_dataset/{i}.txt',ts.reshape(-1),delimiter=',')"
   ]
  },
  {
   "cell_type": "code",
   "execution_count": 8,
   "metadata": {},
   "outputs": [
    {
     "name": "stdout",
     "output_type": "stream",
     "text": [
      " ### Inhalation ###\n",
      "Iteration : 1/10 -- Inertia: 5.063521318082425\n",
      "Iteration : 2/10 -- Inertia: 2.6032097613231473\n",
      "Iteration : 3/10 -- Inertia: 1.9506877185209566\n",
      "Iteration : 4/10 -- Inertia: 1.6648414153813245\n",
      "Iteration : 5/10 -- Inertia: 1.5238081580123313\n",
      "Iteration : 6/10 -- Inertia: 1.4776148463576948\n",
      "Iteration : 7/10 -- Inertia: 1.4415300973265974\n",
      "Iteration : 8/10 -- Inertia: 1.4483762706441763\n",
      "Iteration : 9/10 -- Inertia: 1.3878192198632826\n",
      "Iteration : 10/10 -- Inertia: 1.3886541634141305\n",
      "\n",
      " ### Exhalation ###\n",
      "Iteration : 1/10 -- Inertia: 11.308392055274023\n",
      "Iteration : 2/10 -- Inertia: 3.6150604865653646\n",
      "Iteration : 3/10 -- Inertia: 2.7562203940333916\n",
      "Iteration : 4/10 -- Inertia: 2.439599965191061\n",
      "Iteration : 5/10 -- Inertia: 2.3709570054998657\n",
      "Iteration : 6/10 -- Inertia: 2.378574431582162\n",
      "Iteration : 7/10 -- Inertia: 2.2970798282288385\n",
      "Iteration : 8/10 -- Inertia: 2.3166962877905086\n",
      "Iteration : 9/10 -- Inertia: 2.308381819241773\n",
      "Iteration : 10/10 -- Inertia: 2.2753459744589875\n"
     ]
    },
    {
     "data": {
      "text/plain": [
       "<tools.pipeline.Pipeline at 0x12f7780d0>"
      ]
     },
     "execution_count": 8,
     "metadata": {},
     "output_type": "execute_result"
    }
   ],
   "source": [
    "from tools.pipeline import Pipeline\n",
    "pipe = Pipeline(SAMPFREQ,PROMINENCE,WLEN,MIN_CYCLE,MAX_CYCLE,TRAINING_SIZE,INTERVAL,N_IN_CLUSTER,IN_D,N_OUT_CLUSTER,OUT_D,DOWN_SAMPFREQ,MAX_WARPING,N_ITER,QUNATILE,NJOBS,VERBOSE)\n",
    "pipe.fit(arr)"
   ]
  },
  {
   "cell_type": "code",
   "execution_count": 9,
   "metadata": {},
   "outputs": [
    {
     "data": {
      "text/plain": [
       "[<matplotlib.lines.Line2D at 0x12ff7e610>]"
      ]
     },
     "execution_count": 9,
     "metadata": {},
     "output_type": "execute_result"
    },
    {
     "data": {
      "image/png": "[encoded data removed]",
      "text/plain": [
       "<Figure size 640x480 with 1 Axes>"
      ]
     },
     "metadata": {},
     "output_type": "display_data"
    }
   ],
   "source": [
    "plt.plot(pipe.in_kdtw_.centroid_[4])"
   ]
  },
  {
   "cell_type": "code",
   "execution_count": 10,
   "metadata": {},
   "outputs": [
    {
     "data": {
      "application/vnd.plotly.v1+json": {
       "config": {
        "plotlyServerURL": "https://plot.ly"
       },
       "data": [
        {
         "type": "scatter",
         "xaxis": "x",
         "y": [
          5.063521318082425,
          2.6032097613231473,
          1.9506877185209566,
          1.6648414153813245,
          1.5238081580123313,
          1.4776148463576948,
          1.4415300973265974,
          1.4483762706441763,
          1.3878192198632826,
          1.3886541634141305,
          1.3661066569755154
         ],
         "yaxis": "y"
        },
        {
         "type": "scatter",
         "xaxis": "x2",
         "y": [
          11.308392055274023,
          3.6150604865653646,
          2.7562203940333916,
          2.439599965191061,
          2.3709570054998657,
          2.378574431582162,
          2.2970798282288385,
          2.3166962877905086,
          2.308381819241773,
          2.2753459744589875,
          2.262667919441012
         ],
         "yaxis": "y2"
        }
       ],
       "layout": {
        "annotations": [
         {
          "font": {
           "size": 16
          },
          "showarrow": false,
          "text": "Inhalation Inertia Convergence",
          "x": 0.225,
          "xanchor": "center",
          "xref": "paper",
          "y": 1,
          "yanchor": "bottom",
          "yref": "paper"
         },
         {
          "font": {
           "size": 16
          },
          "showarrow": false,
          "text": "Exhalation Inertia Convergence",
          "x": 0.775,
          "xanchor": "center",
          "xref": "paper",
          "y": 1,
          "yanchor": "bottom",
          "yref": "paper"
         }
        ],
        "showlegend": false,
        "template": {
         "data": {
          "bar": [
           {
            "error_x": {
             "color": "#2a3f5f"
            },
            "error_y": {
             "color": "#2a3f5f"
            },
            "marker": {
             "line": {
              "color": "#E5ECF6",
              "width": 0.5
             },
             "pattern": {
              "fillmode": "overlay",
              "size": 10,
              "solidity": 0.2
             }
            },
            "type": "bar"
           }
          ],
          "barpolar": [
           {
            "marker": {
             "line": {
              "color": "#E5ECF6",
              "width": 0.5
             },
             "pattern": {
              "fillmode": "overlay",
              "size": 10,
              "solidity": 0.2
             }
            },
            "type": "barpolar"
           }
          ],
          "carpet": [
           {
            "aaxis": {
             "endlinecolor": "#2a3f5f",
             "gridcolor": "white",
             "linecolor": "white",
             "minorgridcolor": "white",
             "startlinecolor": "#2a3f5f"
            },
            "baxis": {
             "endlinecolor": "#2a3f5f",
             "gridcolor": "white",
             "linecolor": "white",
             "minorgridcolor": "white",
             "startlinecolor": "#2a3f5f"
            },
            "type": "carpet"
           }
          ],
          "choropleth": [
           {
            "colorbar": {
             "outlinewidth": 0,
             "ticks": ""
            },
            "type": "choropleth"
           }
          ],
          "contour": [
           {
            "colorbar": {
             "outlinewidth": 0,
             "ticks": ""
            },
            "colorscale": [
             [
              0,
              "#0d0887"
             ],
             [
              0.1111111111111111,
              "#46039f"
             ],
             [
              0.2222222222222222,
              "#7201a8"
             ],
             [
              0.3333333333333333,
              "#9c179e"
             ],
             [
              0.4444444444444444,
              "#bd3786"
             ],
             [
              0.5555555555555556,
              "#d8576b"
             ],
             [
              0.6666666666666666,
              "#ed7953"
             ],
             [
              0.7777777777777778,
              "#fb9f3a"
             ],
             [
              0.8888888888888888,
              "#fdca26"
             ],
             [
              1,
              "#f0f921"
             ]
            ],
            "type": "contour"
           }
          ],
          "contourcarpet": [
           {
            "colorbar": {
             "outlinewidth": 0,
             "ticks": ""
            },
            "type": "contourcarpet"
           }
          ],
          "heatmap": [
           {
            "colorbar": {
             "outlinewidth": 0,
             "ticks": ""
            },
            "colorscale": [
             [
              0,
              "#0d0887"
             ],
             [
              0.1111111111111111,
              "#46039f"
             ],
             [
              0.2222222222222222,
              "#7201a8"
             ],
             [
              0.3333333333333333,
              "#9c179e"
             ],
             [
              0.4444444444444444,
              "#bd3786"
             ],
             [
              0.5555555555555556,
              "#d8576b"
             ],
             [
              0.6666666666666666,
              "#ed7953"
             ],
             [
              0.7777777777777778,
              "#fb9f3a"
             ],
             [
              0.8888888888888888,
              "#fdca26"
             ],
             [
              1,
              "#f0f921"
             ]
            ],
            "type": "heatmap"
           }
          ],
          "heatmapgl": [
           {
            "colorbar": {
             "outlinewidth": 0,
             "ticks": ""
            },
            "colorscale": [
             [
              0,
              "#0d0887"
             ],
             [
              0.1111111111111111,
              "#46039f"
             ],
             [
              0.2222222222222222,
              "#7201a8"
             ],
             [
              0.3333333333333333,
              "#9c179e"
             ],
             [
              0.4444444444444444,
              "#bd3786"
             ],
             [
              0.5555555555555556,
              "#d8576b"
             ],
             [
              0.6666666666666666,
              "#ed7953"
             ],
             [
              0.7777777777777778,
              "#fb9f3a"
             ],
             [
              0.8888888888888888,
              "#fdca26"
             ],
             [
              1,
              "#f0f921"
             ]
            ],
            "type": "heatmapgl"
           }
          ],
          "histogram": [
           {
            "marker": {
             "pattern": {
              "fillmode": "overlay",
              "size": 10,
              "solidity": 0.2
             }
            },
            "type": "histogram"
           }
          ],
          "histogram2d": [
           {
            "colorbar": {
             "outlinewidth": 0,
             "ticks": ""
            },
            "colorscale": [
             [
              0,
              "#0d0887"
             ],
             [
              0.1111111111111111,
              "#46039f"
             ],
             [
              0.2222222222222222,
              "#7201a8"
             ],
             [
              0.3333333333333333,
              "#9c179e"
             ],
             [
              0.4444444444444444,
              "#bd3786"
             ],
             [
              0.5555555555555556,
              "#d8576b"
             ],
             [
              0.6666666666666666,
              "#ed7953"
             ],
             [
              0.7777777777777778,
              "#fb9f3a"
             ],
             [
              0.8888888888888888,
              "#fdca26"
             ],
             [
              1,
              "#f0f921"
             ]
            ],
            "type": "histogram2d"
           }
          ],
          "histogram2dcontour": [
           {
            "colorbar": {
             "outlinewidth": 0,
             "ticks": ""
            },
            "colorscale": [
             [
              0,
              "#0d0887"
             ],
             [
              0.1111111111111111,
              "#46039f"
             ],
             [
              0.2222222222222222,
              "#7201a8"
             ],
             [
              0.3333333333333333,
              "#9c179e"
             ],
             [
              0.4444444444444444,
              "#bd3786"
             ],
             [
              0.5555555555555556,
              "#d8576b"
             ],
             [
              0.6666666666666666,
              "#ed7953"
             ],
             [
              0.7777777777777778,
              "#fb9f3a"
             ],
             [
              0.8888888888888888,
              "#fdca26"
             ],
             [
              1,
              "#f0f921"
             ]
            ],
            "type": "histogram2dcontour"
           }
          ],
          "mesh3d": [
           {
            "colorbar": {
             "outlinewidth": 0,
             "ticks": ""
            },
            "type": "mesh3d"
           }
          ],
          "parcoords": [
           {
            "line": {
             "colorbar": {
              "outlinewidth": 0,
              "ticks": ""
             }
            },
            "type": "parcoords"
           }
          ],
          "pie": [
           {
            "automargin": true,
            "type": "pie"
           }
          ],
          "scatter": [
           {
            "fillpattern": {
             "fillmode": "overlay",
             "size": 10,
             "solidity": 0.2
            },
            "type": "scatter"
           }
          ],
          "scatter3d": [
           {
            "line": {
             "colorbar": {
              "outlinewidth": 0,
              "ticks": ""
             }
            },
            "marker": {
             "colorbar": {
              "outlinewidth": 0,
              "ticks": ""
             }
            },
            "type": "scatter3d"
           }
          ],
          "scattercarpet": [
           {
            "marker": {
             "colorbar": {
              "outlinewidth": 0,
              "ticks": ""
             }
            },
            "type": "scattercarpet"
           }
          ],
          "scattergeo": [
           {
            "marker": {
             "colorbar": {
              "outlinewidth": 0,
              "ticks": ""
             }
            },
            "type": "scattergeo"
           }
          ],
          "scattergl": [
           {
            "marker": {
             "colorbar": {
              "outlinewidth": 0,
              "ticks": ""
             }
            },
            "type": "scattergl"
           }
          ],
          "scattermapbox": [
           {
            "marker": {
             "colorbar": {
              "outlinewidth": 0,
              "ticks": ""
             }
            },
            "type": "scattermapbox"
           }
          ],
          "scatterpolar": [
           {
            "marker": {
             "colorbar": {
              "outlinewidth": 0,
              "ticks": ""
             }
            },
            "type": "scatterpolar"
           }
          ],
          "scatterpolargl": [
           {
            "marker": {
             "colorbar": {
              "outlinewidth": 0,
              "ticks": ""
             }
            },
            "type": "scatterpolargl"
           }
          ],
          "scatterternary": [
           {
            "marker": {
             "colorbar": {
              "outlinewidth": 0,
              "ticks": ""
             }
            },
            "type": "scatterternary"
           }
          ],
          "surface": [
           {
            "colorbar": {
             "outlinewidth": 0,
             "ticks": ""
            },
            "colorscale": [
             [
              0,
              "#0d0887"
             ],
             [
              0.1111111111111111,
              "#46039f"
             ],
             [
              0.2222222222222222,
              "#7201a8"
             ],
             [
              0.3333333333333333,
              "#9c179e"
             ],
             [
              0.4444444444444444,
              "#bd3786"
             ],
             [
              0.5555555555555556,
              "#d8576b"
             ],
             [
              0.6666666666666666,
              "#ed7953"
             ],
             [
              0.7777777777777778,
              "#fb9f3a"
             ],
             [
              0.8888888888888888,
              "#fdca26"
             ],
             [
              1,
              "#f0f921"
             ]
            ],
            "type": "surface"
           }
          ],
          "table": [
           {
            "cells": {
             "fill": {
              "color": "#EBF0F8"
             },
             "line": {
              "color": "white"
             }
            },
            "header": {
             "fill": {
              "color": "#C8D4E3"
             },
             "line": {
              "color": "white"
             }
            },
            "type": "table"
           }
          ]
         },
         "layout": {
          "annotationdefaults": {
           "arrowcolor": "#2a3f5f",
           "arrowhead": 0,
           "arrowwidth": 1
          },
          "autotypenumbers": "strict",
          "coloraxis": {
           "colorbar": {
            "outlinewidth": 0,
            "ticks": ""
           }
          },
          "colorscale": {
           "diverging": [
            [
             0,
             "#8e0152"
            ],
            [
             0.1,
             "#c51b7d"
            ],
            [
             0.2,
             "#de77ae"
            ],
            [
             0.3,
             "#f1b6da"
            ],
            [
             0.4,
             "#fde0ef"
            ],
            [
             0.5,
             "#f7f7f7"
            ],
            [
             0.6,
             "#e6f5d0"
            ],
            [
             0.7,
             "#b8e186"
            ],
            [
             0.8,
             "#7fbc41"
            ],
            [
             0.9,
             "#4d9221"
            ],
            [
             1,
             "#276419"
            ]
           ],
           "sequential": [
            [
             0,
             "#0d0887"
            ],
            [
             0.1111111111111111,
             "#46039f"
            ],
            [
             0.2222222222222222,
             "#7201a8"
            ],
            [
             0.3333333333333333,
             "#9c179e"
            ],
            [
             0.4444444444444444,
             "#bd3786"
            ],
            [
             0.5555555555555556,
             "#d8576b"
            ],
            [
             0.6666666666666666,
             "#ed7953"
            ],
            [
             0.7777777777777778,
             "#fb9f3a"
            ],
            [
             0.8888888888888888,
             "#fdca26"
            ],
            [
             1,
             "#f0f921"
            ]
           ],
           "sequentialminus": [
            [
             0,
             "#0d0887"
            ],
            [
             0.1111111111111111,
             "#46039f"
            ],
            [
             0.2222222222222222,
             "#7201a8"
            ],
            [
             0.3333333333333333,
             "#9c179e"
            ],
            [
             0.4444444444444444,
             "#bd3786"
            ],
            [
             0.5555555555555556,
             "#d8576b"
            ],
            [
             0.6666666666666666,
             "#ed7953"
            ],
            [
             0.7777777777777778,
             "#fb9f3a"
            ],
            [
             0.8888888888888888,
             "#fdca26"
            ],
            [
             1,
             "#f0f921"
            ]
           ]
          },
          "colorway": [
           "#636efa",
           "#EF553B",
           "#00cc96",
           "#ab63fa",
           "#FFA15A",
           "#19d3f3",
           "#FF6692",
           "#B6E880",
           "#FF97FF",
           "#FECB52"
          ],
          "font": {
           "color": "#2a3f5f"
          },
          "geo": {
           "bgcolor": "white",
           "lakecolor": "white",
           "landcolor": "#E5ECF6",
           "showlakes": true,
           "showland": true,
           "subunitcolor": "white"
          },
          "hoverlabel": {
           "align": "left"
          },
          "hovermode": "closest",
          "mapbox": {
           "style": "light"
          },
          "paper_bgcolor": "white",
          "plot_bgcolor": "#E5ECF6",
          "polar": {
           "angularaxis": {
            "gridcolor": "white",
            "linecolor": "white",
            "ticks": ""
           },
           "bgcolor": "#E5ECF6",
           "radialaxis": {
            "gridcolor": "white",
            "linecolor": "white",
            "ticks": ""
           }
          },
          "scene": {
           "xaxis": {
            "backgroundcolor": "#E5ECF6",
            "gridcolor": "white",
            "gridwidth": 2,
            "linecolor": "white",
            "showbackground": true,
            "ticks": "",
            "zerolinecolor": "white"
           },
           "yaxis": {
            "backgroundcolor": "#E5ECF6",
            "gridcolor": "white",
            "gridwidth": 2,
            "linecolor": "white",
            "showbackground": true,
            "ticks": "",
            "zerolinecolor": "white"
           },
           "zaxis": {
            "backgroundcolor": "#E5ECF6",
            "gridcolor": "white",
            "gridwidth": 2,
            "linecolor": "white",
            "showbackground": true,
            "ticks": "",
            "zerolinecolor": "white"
           }
          },
          "shapedefaults": {
           "line": {
            "color": "#2a3f5f"
           }
          },
          "ternary": {
           "aaxis": {
            "gridcolor": "white",
            "linecolor": "white",
            "ticks": ""
           },
           "baxis": {
            "gridcolor": "white",
            "linecolor": "white",
            "ticks": ""
           },
           "bgcolor": "#E5ECF6",
           "caxis": {
            "gridcolor": "white",
            "linecolor": "white",
            "ticks": ""
           }
          },
          "title": {
           "x": 0.05
          },
          "xaxis": {
           "automargin": true,
           "gridcolor": "white",
           "linecolor": "white",
           "ticks": "",
           "title": {
            "standoff": 15
           },
           "zerolinecolor": "white",
           "zerolinewidth": 2
          },
          "yaxis": {
           "automargin": true,
           "gridcolor": "white",
           "linecolor": "white",
           "ticks": "",
           "title": {
            "standoff": 15
           },
           "zerolinecolor": "white",
           "zerolinewidth": 2
          }
         }
        },
        "xaxis": {
         "anchor": "y",
         "domain": [
          0,
          0.45
         ],
         "title": {
          "text": "Iteration"
         }
        },
        "xaxis2": {
         "anchor": "y2",
         "domain": [
          0.55,
          1
         ],
         "title": {
          "text": "Iteration"
         }
        },
        "yaxis": {
         "anchor": "x",
         "domain": [
          0,
          1
         ],
         "title": {
          "text": "Inertia"
         }
        },
        "yaxis2": {
         "anchor": "x2",
         "domain": [
          0,
          1
         ],
         "title": {
          "text": "Inertia"
         }
        }
       }
      }
     },
     "metadata": {},
     "output_type": "display_data"
    }
   ],
   "source": [
    "pipe.plot_intertia()"
   ]
  },
  {
   "cell_type": "code",
   "execution_count": 11,
   "metadata": {},
   "outputs": [
    {
     "data": {
      "application/vnd.plotly.v1+json": {
       "config": {
        "plotlyServerURL": "https://plot.ly"
       },
       "data": [
        {
         "marker": {
          "color": "blue"
         },
         "type": "scatter",
         "x": [
          0,
          0.004,
          0.008,
          0.012,
          0.016,
          0.02,
          0.024,
          0.028,
          0.032,
          0.036,
          0.04,
          0.044,
          0.048,
          0.052,
          0.056,
          0.06,
          0.064,
          0.068
         ],
         "xaxis": "x",
         "y": [
          -0.04252370046540096,
          0.38206518471045925,
          0.8066540698863195,
          1.2073896469062326,
          1.5461066227206828,
          1.8037223508049127,
          1.9945488160524902,
          2.1281273417257944,
          2.228311235980773,
          2.304641822079804,
          2.3618897616540773,
          2.400055054703593,
          2.4048257163347824,
          2.352348438391698,
          2.1996872661936364,
          1.927759553215838,
          1.5127119913023568,
          0.9593152420843816
         ],
         "yaxis": "y"
        },
        {
         "marker": {
          "color": "blue"
         },
         "type": "scatter",
         "x": [
          0.072,
          0.076,
          0.08,
          0.084,
          0.088,
          0.092,
          0.096,
          0.1,
          0.104,
          0.108,
          0.112,
          0.116,
          0.12,
          0.124,
          0.128,
          0.132,
          0.136,
          0.14
         ],
         "xaxis": "x",
         "y": [
          0.31050526024261765,
          -0.38124067627985125,
          -1.039591981383994,
          -1.6073007154955377,
          -2.0462015855649662,
          -2.337211945067522,
          -2.508955763790342,
          -2.570974364995805,
          -2.556662380102236,
          -2.489873117265584,
          -2.3896892230106057,
          -2.2656520205996804,
          -2.1273028332951864,
          -1.9555590145723667,
          -1.7456499028000314,
          -1.4689515281910437,
          -1.0968399209582673,
          -0.605461772945755
         ],
         "yaxis": "y"
        },
        {
         "marker": {
          "color": "blue"
         },
         "type": "scatter",
         "x": [
          0,
          0.004,
          0.008,
          0.012,
          0.016,
          0.02,
          0.024,
          0.028,
          0.032,
          0.036,
          0.04,
          0.044,
          0.048,
          0.052
         ],
         "xaxis": "x2",
         "y": [
          -0.4130617764553378,
          0.1730118568703659,
          0.6939661976043248,
          1.1358471116197364,
          1.4986545989166007,
          1.749829013199045,
          1.8940217325093374,
          1.9451868909742798,
          1.9265813788052097,
          1.8289024399175924,
          1.6381959401846253,
          1.3451591235217735,
          0.9730488801403743,
          0.5637276124208351
         ],
         "yaxis": "y2"
        },
        {
         "marker": {
          "color": "blue"
         },
         "type": "scatter",
         "x": [
          0.056,
          0.06,
          0.064,
          0.068,
          0.072,
          0.076,
          0.08,
          0.084,
          0.088,
          0.092,
          0.096,
          0.1,
          0.104,
          0.108,
          0.112,
          0.116
         ],
         "xaxis": "x2",
         "y": [
          0.17766323491263342,
          -0.12932771587702094,
          -0.3665479960326629,
          -0.5805113859769675,
          -0.7991261539635395,
          -1.013089543907844,
          -1.2270529338521485,
          -1.4921814822613955,
          -1.8596403476005272,
          -2.348035042038614,
          -2.864338004730305,
          -3.2643565163653094,
          -3.4550630160982765,
          -3.3666868332951942,
          -2.91085178515298,
          -2.0875578716716343
         ],
         "yaxis": "y2"
        },
        {
         "marker": {
          "color": "blue"
         },
         "type": "scatter",
         "x": [
          0,
          0.004,
          0.008,
          0.012,
          0.016,
          0.02,
          0.024,
          0.028,
          0.032,
          0.036,
          0.04,
          0.044,
          0.048,
          0.052,
          0.056,
          0.06,
          0.064,
          0.068,
          0.072,
          0.076,
          0.08,
          0.084,
          0.088,
          0.092,
          0.096,
          0.1,
          0.104,
          0.108
         ],
         "xaxis": "x3",
         "y": [
          -0.04560291111620612,
          0.02881913756007372,
          0.15440634470129597,
          0.29859906401158814,
          0.43348902723734534,
          0.5451221002517651,
          0.6521037952239174,
          0.7776910023651397,
          0.9218837216754319,
          1.0800305751125265,
          1.2335260505073538,
          1.3591132576485758,
          1.4521408184939257,
          1.5079573550011356,
          1.531214245212473,
          1.5451683793392754,
          1.5637738915083454,
          1.587030781719683,
          1.5916821597619504,
          1.577728025635148,
          1.5358656232547405,
          1.4753977087052632,
          1.4009756600289833,
          1.3079480991836334,
          1.1823608920424113,
          1.0149112825207816,
          0.8055992706187446,
          0.5497734782940327
         ],
         "yaxis": "y3"
        },
        {
         "marker": {
          "color": "blue"
         },
         "type": "scatter",
         "x": [
          0.112,
          0.116,
          0.12,
          0.124,
          0.128,
          0.132,
          0.136,
          0.14,
          0.144,
          0.148,
          0.152,
          0.156,
          0.16,
          0.164,
          0.168,
          0.172,
          0.176,
          0.18,
          0.184,
          0.188,
          0.192,
          0.196,
          0.2,
          0.204,
          0.208,
          0.212,
          0.216,
          0.22,
          0.224,
          0.228,
          0.232
         ],
         "xaxis": "x3",
         "y": [
          0.2706907957579832,
          -0.0083918867780662,
          -0.26421767910277816,
          -0.4874838251316177,
          -0.6874930809491198,
          -0.8875023367666218,
          -1.1014657267109265,
          -1.3293832507820333,
          -1.5386952626840704,
          -1.7154476282902351,
          -1.8503375915159923,
          -1.9480165304036097,
          -2.0131358229953547,
          -2.059649603418029,
          -2.0736037375448317,
          -2.054998225375762,
          -1.989878932784017,
          -1.8875486158541321,
          -1.74335589654384,
          -1.552649396810873,
          -1.315429116655231,
          -1.0456491902037166,
          -0.7665665076676671,
          -0.5293462275120251,
          -0.3665479960326629,
          -0.28282319127184813,
          -0.2735204351873131,
          -0.3014287034409181,
          -0.33398834973679054,
          -0.32933697169452303,
          -0.2456121669337082
         ],
         "yaxis": "y3"
        },
        {
         "marker": {
          "color": "blue"
         },
         "type": "scatter",
         "x": [
          0,
          0.004,
          0.008,
          0.012,
          0.016,
          0.02,
          0.024,
          0.028,
          0.032,
          0.036,
          0.04,
          0.044,
          0.048,
          0.052,
          0.056,
          0.06,
          0.064,
          0.068,
          0.072,
          0.076,
          0.08,
          0.084,
          0.088,
          0.092,
          0.096
         ],
         "xaxis": "x4",
         "y": [
          -0.04095153307393863,
          0.11719532036315604,
          0.3311587103074606,
          0.582333124589905,
          0.847461672999152,
          1.1218929774929338,
          1.3730673917753784,
          1.5730766475928804,
          1.7079666108186378,
          1.79634279362172,
          1.8568107081711973,
          1.9079758666361397,
          1.940535512932012,
          1.9591410251010821,
          1.9498382690165472,
          1.9358841348897446,
          1.9126272446784072,
          1.8754162203402673,
          1.8102969277485224,
          1.7079666108186378,
          1.5637738915083454,
          1.3730673917753784,
          1.131195733577469,
          0.8335075388723495,
          0.4986083198290902
         ],
         "yaxis": "y4"
        },
        {
         "marker": {
          "color": "blue"
         },
         "type": "scatter",
         "x": [
          0.1,
          0.104,
          0.108,
          0.112,
          0.116,
          0.12,
          0.124,
          0.128,
          0.132,
          0.136,
          0.14,
          0.144,
          0.148,
          0.152,
          0.156,
          0.16,
          0.164,
          0.168,
          0.172,
          0.176,
          0.18,
          0.184,
          0.188,
          0.192,
          0.196,
          0.2,
          0.204,
          0.208,
          0.212,
          0.216,
          0.22
         ],
         "xaxis": "x4",
         "y": [
          0.16370910078583092,
          -0.12932771587702094,
          -0.3851535082017329,
          -0.6316765444419099,
          -0.9107592269779593,
          -1.2363556899366837,
          -1.5759062870222105,
          -1.8782458597695972,
          -2.1201175179675067,
          -2.282915749446869,
          -2.380594688334486,
          -2.4085029565880913,
          -2.3619891761654164,
          -2.217796456855124,
          -1.9480165304036097,
          -1.5666035309376753,
          -1.1293739949645314,
          -0.7340068613717946,
          -0.4409700447089428,
          -0.2781718132295806,
          -0.21305252063783575,
          -0.21305252063783575,
          -0.26421767910277816,
          -0.3665479960326629,
          -0.5246948494697576,
          -0.7107499711604572,
          -0.9061078489356919,
          -1.050300568245984,
          -1.106117104753194,
          -1.031695056076914,
          -0.7991261539635395
         ],
         "yaxis": "y4"
        },
        {
         "marker": {
          "color": "blue"
         },
         "type": "scatter",
         "x": [
          0,
          0.004,
          0.008,
          0.012,
          0.016,
          0.02,
          0.024,
          0.028,
          0.032,
          0.036,
          0.04,
          0.044,
          0.048,
          0.052,
          0.056,
          0.06,
          0.064,
          0.068,
          0.072,
          0.076,
          0.08,
          0.084,
          0.088,
          0.092,
          0.096
         ],
         "xaxis": "x5",
         "y": [
          -0.0549056672007411,
          0.03347051560234121,
          0.09393843015181859,
          0.135800832532226,
          0.1823146129549009,
          0.2660394177157157,
          0.4241862711528104,
          0.6055900148012425,
          0.7497827341115347,
          0.8335075388723495,
          0.8660671851682219,
          0.8660671851682219,
          0.8614158071259544,
          0.8288561608300821,
          0.7962965145342096,
          0.7962965145342096,
          0.810250648661012,
          0.838158916914617,
          0.847461672999152,
          0.8428102949568845,
          0.819553404745547,
          0.7590854901960696,
          0.6381496610971149,
          0.4567459174486828,
          0.25673666163118075
         ],
         "yaxis": "y5"
        },
        {
         "marker": {
          "color": "blue"
         },
         "type": "scatter",
         "x": [
          0.1,
          0.104,
          0.108,
          0.112,
          0.116,
          0.12,
          0.124,
          0.128,
          0.132,
          0.136,
          0.14,
          0.144,
          0.148,
          0.152,
          0.156,
          0.16,
          0.164,
          0.168,
          0.172,
          0.176,
          0.18,
          0.184,
          0.188,
          0.192,
          0.196,
          0.2,
          0.204,
          0.208,
          0.212
         ],
         "xaxis": "x5",
         "y": [
          0.07068153994048114,
          -0.06420842328527608,
          -0.18049287434196334,
          -0.3014287034409181,
          -0.45027280079347776,
          -0.6316765444419099,
          -0.803777532005807,
          -0.9526216293583667,
          -1.0363464341191815,
          -1.0689060804150539,
          -1.059603324330519,
          -1.031695056076914,
          -0.9805298976119716,
          -0.8875023367666218,
          -0.7712178857099345,
          -0.6456306785687124,
          -0.5758600079347,
          -0.5991168981460374,
          -0.7060985931181897,
          -0.8456399343862144,
          -0.9340161171892968,
          -0.9433188732738317,
          -0.8968050928511568,
          -0.8502913124284819,
          -0.8363371783016794,
          -0.803777532005807,
          -0.7107499711604572,
          -0.5386489835965601,
          -0.320034215609988
         ],
         "yaxis": "y5"
        },
        {
         "marker": {
          "color": "blue"
         },
         "type": "scatter",
         "x": [
          0,
          0.004,
          0.008,
          0.012,
          0.016,
          0.02,
          0.024,
          0.028,
          0.032,
          0.036,
          0.04,
          0.044,
          0.048,
          0.052,
          0.056,
          0.06,
          0.064,
          0.068,
          0.072,
          0.076,
          0.08,
          0.084
         ],
         "xaxis": "x6",
         "y": [
          -0.017694642862601178,
          0.48465418570228774,
          0.9683975020981067,
          1.3777187698176458,
          1.6800583425650326,
          1.8847189764248022,
          2.0196089396505594,
          2.1126365004959093,
          2.177755793087654,
          2.2196181954680614,
          2.2475264637216665,
          2.2568292198062014,
          2.2382237076371316,
          2.2010126832989916,
          2.1498475248340494,
          2.080076854200037,
          1.9777465372701521,
          1.824251061875325,
          1.6102876719310204,
          1.3265536113527034,
          0.9870030142671767,
          0.6148927708857774
         ],
         "yaxis": "y6"
        },
        {
         "marker": {
          "color": "blue"
         },
         "type": "scatter",
         "x": [
          0.088,
          0.092,
          0.096,
          0.1,
          0.104,
          0.108,
          0.112,
          0.116,
          0.12,
          0.124,
          0.128,
          0.132,
          0.136,
          0.14,
          0.144,
          0.148,
          0.152,
          0.156,
          0.16,
          0.164,
          0.168,
          0.172,
          0.176,
          0.18,
          0.184,
          0.188
         ],
         "xaxis": "x6",
         "y": [
          0.24743390554664577,
          -0.07816255741207855,
          -0.35724523994812796,
          -0.6177224103151074,
          -0.8828509587243544,
          -1.1712363973449387,
          -1.4735759700923257,
          -1.76196140871291,
          -1.9945303108262844,
          -2.143374408178844,
          -2.2131450788128566,
          -2.208493700770589,
          -2.161979920347914,
          -2.0875578716716343,
          -2.0038330669108193,
          -1.9108055060654696,
          -1.8131265671778525,
          -1.72475038437477,
          -1.6363742015716878,
          -1.552649396810873,
          -1.4642732140077905,
          -1.3572915190356383,
          -1.2270529338521485,
          -1.0642547023727864,
          -0.8502913124284819,
          -0.5758600079347
         ],
         "yaxis": "y6"
        },
        {
         "marker": {
          "color": "blue"
         },
         "type": "scatter",
         "x": [
          0,
          0.004,
          0.008,
          0.012,
          0.016,
          0.02,
          0.024,
          0.028,
          0.032,
          0.036,
          0.04,
          0.044,
          0.048,
          0.052,
          0.056,
          0.06,
          0.064,
          0.068,
          0.072,
          0.076,
          0.08,
          0.084,
          0.088
         ],
         "xaxis": "x7",
         "y": [
          -0.38124067627985125,
          0.18169739620050276,
          0.6826168674753941,
          1.092893767757686,
          1.4125280970473786,
          1.6510611786068505,
          1.7894103659113443,
          1.8323463205920494,
          1.808493012436102,
          1.7703277193865865,
          1.7894103659113443,
          1.8800529369039436,
          1.9945488160524902,
          2.066108740520332,
          2.066108740520332,
          2.0136314625772482,
          1.9229888915846487,
          1.784639704280155,
          1.5747305925078194,
          1.3028028795300213,
          0.9974805351338971,
          0.6730755442130152,
          0.35344121492332264
         ],
         "yaxis": "y7"
        },
        {
         "marker": {
          "color": "blue"
         },
         "type": "scatter",
         "x": [
          0.092,
          0.096,
          0.1,
          0.104,
          0.108,
          0.112,
          0.116,
          0.12,
          0.124,
          0.128,
          0.132,
          0.136,
          0.14,
          0.144,
          0.148,
          0.152
         ],
         "xaxis": "x7",
         "y": [
          0.043348208896008975,
          -0.25243281223773634,
          -0.5243605252155344,
          -0.7772055916685748,
          -1.0205093348592362,
          -1.2590424164187084,
          -1.4737221898222332,
          -1.6645486550698108,
          -1.9078523982604723,
          -2.1845507728694598,
          -2.666387597619593,
          -3.1339124374761584,
          -3.429693458609904,
          -3.3915281655603886,
          -2.78088347676814,
          -1.936476368047609
         ],
         "yaxis": "y7"
        },
        {
         "marker": {
          "color": "blue"
         },
         "type": "scatter",
         "x": [
          0,
          0.004,
          0.008,
          0.012,
          0.016,
          0.02,
          0.024,
          0.028,
          0.032,
          0.036,
          0.04,
          0.044,
          0.048,
          0.052,
          0.056,
          0.06,
          0.064,
          0.068,
          0.072,
          0.076,
          0.08,
          0.084,
          0.088,
          0.092,
          0.096,
          0.1,
          0.104,
          0.108,
          0.112
         ],
         "xaxis": "x8",
         "y": [
          -0.12467633783475346,
          0.052076027771411175,
          0.2613880396734482,
          0.46604867353321777,
          0.6474524171816499,
          0.7823423804074071,
          0.8753699412527569,
          0.9358378558022343,
          0.9777002581826417,
          1.0009571483939792,
          1.010259904478514,
          1.0149112825207816,
          1.0288654166475841,
          1.0474709288166542,
          1.0707278190279914,
          1.084681953154794,
          1.084681953154794,
          1.066076440985724,
          1.0474709288166542,
          1.0242140386053167,
          1.0056085264362467,
          0.9963057703517116,
          0.9777002581826417,
          0.9497919899290368,
          0.9032782095063618,
          0.8242047827878145,
          0.7032689536888598,
          0.5404707222094977,
          0.34046146639199554
         ],
         "yaxis": "y8"
        },
        {
         "marker": {
          "color": "blue"
         },
         "type": "scatter",
         "x": [
          0.116,
          0.12,
          0.124,
          0.128,
          0.132,
          0.136,
          0.14,
          0.144,
          0.148,
          0.152,
          0.156,
          0.16,
          0.164,
          0.168,
          0.172,
          0.176,
          0.18,
          0.184,
          0.188,
          0.192,
          0.196,
          0.2,
          0.204,
          0.208,
          0.212,
          0.216,
          0.22,
          0.224,
          0.228,
          0.232,
          0.236,
          0.24,
          0.244,
          0.248,
          0.252,
          0.256,
          0.26,
          0.264,
          0.268
         ],
         "xaxis": "x8",
         "y": [
          0.126498076447691,
          -0.06420842328527608,
          -0.22700665476463824,
          -0.347942483863593,
          -0.44562142275121025,
          -0.5339976055542925,
          -0.6456306785687124,
          -0.7712178857099345,
          -0.9107592269779593,
          -1.0363464341191815,
          -1.1200712388799963,
          -1.1619336412604038,
          -1.1619336412604038,
          -1.1293739949645314,
          -1.0689060804150539,
          -0.9991354097810417,
          -0.9247133611047618,
          -0.8595940685130169,
          -0.8130802880903419,
          -0.7805206417944696,
          -0.7619151296253996,
          -0.7433096174563296,
          -0.7200527272449921,
          -0.6874930809491198,
          -0.6409793005264448,
          -0.5805113859769675,
          -0.5153920933852226,
          -0.4409700447089428,
          -0.3711993740749304,
          -0.3014287034409181,
          -0.23630941084917323,
          -0.1897956304264983,
          -0.1572359841306259,
          -0.1479332280460909,
          -0.1479332280460909,
          -0.1572359841306259,
          -0.1572359841306259,
          -0.13397909391928844,
          -0.09211669153888102
         ],
         "yaxis": "y8"
        },
        {
         "marker": {
          "color": "blue"
         },
         "type": "scatter",
         "x": [
          0,
          0.004,
          0.008,
          0.012,
          0.016,
          0.02,
          0.024,
          0.028,
          0.032,
          0.036,
          0.04,
          0.044,
          0.048,
          0.052,
          0.056,
          0.06,
          0.064,
          0.068,
          0.072,
          0.076,
          0.08,
          0.084,
          0.088,
          0.092,
          0.096,
          0.1,
          0.104,
          0.108,
          0.112,
          0.116,
          0.12,
          0.124
         ],
         "xaxis": "x9",
         "y": [
          -0.10454230167086369,
          0.01949490074006177,
          0.17215607293812388,
          0.3295879067673754,
          0.4727077557030587,
          0.5919742964827946,
          0.6826168674753941,
          0.7541767919432356,
          0.8114247315175089,
          0.8639020094605928,
          0.9116086257724872,
          0.9593152420843816,
          0.9974805351338971,
          1.0261045049210338,
          1.0547284747081704,
          1.0785817828641175,
          1.0881231061264964,
          1.092893767757686,
          1.092893767757686,
          1.1072057526512542,
          1.1358297224383909,
          1.1739950154879064,
          1.202618985275043,
          1.212160308537422,
          1.202618985275043,
          1.1739950154879064,
          1.1358297224383909,
          1.0642697979705493,
          0.9545445804531921,
          0.7923420849927512,
          0.5728916499580369,
          0.32004658350499654
         ],
         "yaxis": "y9"
        },
        {
         "marker": {
          "color": "blue"
         },
         "type": "scatter",
         "x": [
          0.128,
          0.132,
          0.136,
          0.14,
          0.144,
          0.148,
          0.152,
          0.156,
          0.16,
          0.164,
          0.168,
          0.172,
          0.176,
          0.18,
          0.184,
          0.188,
          0.192,
          0.196,
          0.2,
          0.204,
          0.208,
          0.212,
          0.216,
          0.22,
          0.224,
          0.228,
          0.232,
          0.236,
          0.24,
          0.244,
          0.248,
          0.252,
          0.256,
          0.26
         ],
         "xaxis": "x9",
         "y": [
          0.08628416357671394,
          -0.08068899351491648,
          -0.17133156450751585,
          -0.20472619592584196,
          -0.23812082734416803,
          -0.3335340599679569,
          -0.5148192019531556,
          -0.7581229451438171,
          -1.0205093348592362,
          -1.235189108262761,
          -1.3926209420920128,
          -1.492804836346991,
          -1.535740791027696,
          -1.5309701293965066,
          -1.4689515281910437,
          -1.3401436641489288,
          -1.1540878605325406,
          -0.9107841173418791,
          -0.64839772762646,
          -0.40509398443579847,
          -0.21426751918822082,
          -0.09023031677729537,
          -0.037753038834211515,
          -0.0472943620965904,
          -0.10454230167086369,
          -0.19995553429465251,
          -0.3144514134431991,
          -0.4480299391165034,
          -0.5816084647898078,
          -0.6579390508888389,
          -0.6436270659952705,
          -0.519589863584345,
          -0.3430753832303357,
          -0.17133156450751585
         ],
         "yaxis": "y9"
        },
        {
         "marker": {
          "color": "blue"
         },
         "type": "scatter",
         "x": [
          0,
          0.004,
          0.008,
          0.012,
          0.016,
          0.02,
          0.024,
          0.028,
          0.032,
          0.036,
          0.04,
          0.044,
          0.048,
          0.052,
          0.056,
          0.06,
          0.064,
          0.068,
          0.072,
          0.076,
          0.08,
          0.084,
          0.088,
          0.092,
          0.096,
          0.1
         ],
         "xaxis": "x10",
         "y": [
          -0.17584149629969584,
          0.15905772274356345,
          0.48930556374455525,
          0.7544341121538022,
          0.9451406118867692,
          1.066076440985724,
          1.1451498677042713,
          1.2056177822537488,
          1.2381774285496212,
          1.256782940718691,
          1.256782940718691,
          1.247480184634156,
          1.2381774285496212,
          1.2521315626764236,
          1.2893425870145636,
          1.3451591235217735,
          1.4009756600289833,
          1.4288839282825883,
          1.4195811721980534,
          1.349810501564041,
          1.2102691602960163,
          1.010259904478514,
          0.7776910023651397,
          0.5497734782940327,
          0.3590669785610655,
          0.20557150316623835
         ],
         "yaxis": "y10"
        },
        {
         "marker": {
          "color": "blue"
         },
         "type": "scatter",
         "x": [
          0.104,
          0.108,
          0.112,
          0.116,
          0.12,
          0.124,
          0.128,
          0.132,
          0.136,
          0.14,
          0.144,
          0.148,
          0.152,
          0.156,
          0.16,
          0.164,
          0.168,
          0.172,
          0.176,
          0.18,
          0.184,
          0.188,
          0.192,
          0.196,
          0.2,
          0.204
         ],
         "xaxis": "x10",
         "y": [
          0.052076027771411175,
          -0.13397909391928844,
          -0.35724523994812796,
          -0.603768276188305,
          -0.8688968245975519,
          -1.1805391534294738,
          -1.5014842383459306,
          -1.7945210550087825,
          -1.999181688868552,
          -2.054998225375762,
          -1.9712734206149471,
          -1.7573100306706424,
          -1.4689245920500582,
          -1.1572822632181363,
          -0.9107592269779593,
          -0.7572637515831321,
          -0.6921444589913872,
          -0.6967958370336548,
          -0.794474775921272,
          -1.013089543907844,
          -1.3479887629511034,
          -1.6828879819943627,
          -1.8549889695582598,
          -1.7480072745861075,
          -1.3200804946974984,
          -0.7014472150759222
         ],
         "yaxis": "y10"
        },
        {
         "marker": {
          "color": "blue"
         },
         "type": "scatter",
         "x": [
          0,
          0.004,
          0.008,
          0.012,
          0.016,
          0.02,
          0.024,
          0.028,
          0.032,
          0.036,
          0.04,
          0.044,
          0.048,
          0.052,
          0.056,
          0.06,
          0.064,
          0.068,
          0.072,
          0.076,
          0.08,
          0.084,
          0.088,
          0.092,
          0.096,
          0.1,
          0.104
         ],
         "xaxis": "x11",
         "y": [
          -0.26886905714504566,
          0.06603016189821365,
          0.4241862711528104,
          0.7637368682383372,
          1.0474709288166542,
          1.256782940718691,
          1.4009756600289833,
          1.494003220874333,
          1.568425269550613,
          1.6335445621423579,
          1.6847097206073003,
          1.7219207449454401,
          1.7358748790722427,
          1.731223501029975,
          1.7172693669031727,
          1.70331523277637,
          1.6707555864804977,
          1.6288931841000904,
          1.577728025635148,
          1.512608733043403,
          1.4381866843671232,
          1.3451591235217735,
          1.2242232944228186,
          1.066076440985724,
          0.856764429083687,
          0.61024139284351,
          0.34046146639199554
         ],
         "yaxis": "y11"
        },
        {
         "marker": {
          "color": "blue"
         },
         "type": "scatter",
         "x": [
          0.108,
          0.112,
          0.116,
          0.12,
          0.124,
          0.128,
          0.132,
          0.136,
          0.14,
          0.144,
          0.148,
          0.152,
          0.156,
          0.16,
          0.164,
          0.168,
          0.172,
          0.176,
          0.18,
          0.184,
          0.188,
          0.192,
          0.196,
          0.2,
          0.204,
          0.208
         ],
         "xaxis": "x11",
         "y": [
          0.07533291798274862,
          -0.16653874021516085,
          -0.39910764232853535,
          -0.6177224103151074,
          -0.8502913124284819,
          -1.0921629706263913,
          -1.3340346288243008,
          -1.5479980187686055,
          -1.7200990063325026,
          -1.8317320793469223,
          -1.8968513719386673,
          -1.9247596401922722,
          -1.934062396276807,
          -1.9247596401922722,
          -1.8875486158541321,
          -1.8317320793469223,
          -1.7573100306706424,
          -1.6689338478675602,
          -1.580557665064478,
          -1.4968328603036631,
          -1.4084566775005807,
          -1.3200804946974984,
          -1.2130987997253462,
          -1.078208836499589,
          -0.8875023367666218,
          -0.6177224103151074
         ],
         "yaxis": "y11"
        },
        {
         "marker": {
          "color": "blue"
         },
         "type": "scatter",
         "x": [
          0,
          0.004,
          0.008,
          0.012,
          0.016,
          0.02,
          0.024,
          0.028,
          0.032,
          0.036,
          0.04,
          0.044,
          0.048,
          0.052,
          0.056,
          0.06,
          0.064,
          0.068,
          0.072,
          0.076,
          0.08,
          0.084,
          0.088,
          0.092,
          0.096,
          0.1
         ],
         "xaxis": "x12",
         "y": [
          -0.03630015503167114,
          0.373021112687868,
          0.8009478925764771,
          1.1963150261692137,
          1.540517001297008,
          1.8335538179598598,
          2.084728232242304,
          2.2475264637216665,
          2.307994378271144,
          2.2661319758907363,
          2.173104415045387,
          2.070774098115502,
          1.9777465372701521,
          1.8847189764248022,
          1.7730859034103825,
          1.6474986962691602,
          1.5219114891279382,
          1.4102784161135182,
          1.303296721141366,
          1.1591040018310739,
          0.9777002581826417,
          0.7916451364919421,
          0.62884690501258,
          0.48465418570228774,
          0.35441560051879806,
          0.2195256372930408
         ],
         "yaxis": "y12"
        },
        {
         "marker": {
          "color": "blue"
         },
         "type": "scatter",
         "x": [
          0.104,
          0.108,
          0.112,
          0.116,
          0.12,
          0.124,
          0.128,
          0.132,
          0.136,
          0.14,
          0.144,
          0.148,
          0.152,
          0.156,
          0.16,
          0.164,
          0.168,
          0.172,
          0.176,
          0.18,
          0.184
         ],
         "xaxis": "x12",
         "y": [
          0.07068153994048114,
          -0.10607082566568349,
          -0.31538283756772056,
          -0.49213520317388515,
          -0.59446552010377,
          -0.6084196542305724,
          -0.5898141420615025,
          -0.603768276188305,
          -0.6456306785687124,
          -0.6688875687800498,
          -0.6688875687800498,
          -0.803777532005807,
          -1.0828602145418564,
          -1.459621835965523,
          -1.7666127867551775,
          -1.771264164797445,
          -1.6689338478675602,
          -1.4968328603036631,
          -1.3526401409933708,
          -1.124722616922264,
          -0.7526123735408646
         ],
         "yaxis": "y12"
        },
        {
         "marker": {
          "color": "blue"
         },
         "type": "scatter",
         "x": [
          0,
          0.004,
          0.008,
          0.012,
          0.016,
          0.02,
          0.024,
          0.028,
          0.032,
          0.036,
          0.04,
          0.044,
          0.048,
          0.052,
          0.056,
          0.06,
          0.064,
          0.068,
          0.072,
          0.076,
          0.08,
          0.084,
          0.088,
          0.092,
          0.096
         ],
         "xaxis": "x13",
         "y": [
          -0.18049287434196334,
          0.0846356740672836,
          0.4195348931105429,
          0.7637368682383372,
          1.0521223068589216,
          1.2614343187609587,
          1.3870215259021808,
          1.4614435745784606,
          1.4986545989166007,
          1.5219114891279382,
          1.540517001297008,
          1.559122513466078,
          1.5637738915083454,
          1.549819757381543,
          1.5219114891279382,
          1.4893518428320656,
          1.4521408184939257,
          1.4102784161135182,
          1.3544618796063084,
          1.275388452887761,
          1.1684067579156088,
          1.0149112825207816,
          0.810250648661012,
          0.5637276124208351,
          0.29859906401158814
         ],
         "yaxis": "y13"
        },
        {
         "marker": {
          "color": "blue"
         },
         "type": "scatter",
         "x": [
          0.1,
          0.104,
          0.108,
          0.112,
          0.116,
          0.12,
          0.124,
          0.128,
          0.132,
          0.136,
          0.14,
          0.144,
          0.148,
          0.152,
          0.156,
          0.16,
          0.164,
          0.168,
          0.172,
          0.176,
          0.18,
          0.184,
          0.188,
          0.192,
          0.196,
          0.2,
          0.204,
          0.208,
          0.212,
          0.216,
          0.22
         ],
         "xaxis": "x13",
         "y": [
          0.06603016189821365,
          -0.11537358175021847,
          -0.2502635449759757,
          -0.35259386190586045,
          -0.45957555687801277,
          -0.59446552010377,
          -0.7712178857099345,
          -0.9898326536965066,
          -1.222401555809881,
          -1.4270621896696507,
          -1.5573007748531404,
          -1.6084659333180829,
          -1.6038145552758154,
          -1.5712549089799428,
          -1.5386952626840704,
          -1.506135616388198,
          -1.4642732140077905,
          -1.3898511653315109,
          -1.278218092317091,
          -1.1386767510490663,
          -0.9805298976119716,
          -0.8130802880903419,
          -0.6502820566109798,
          -0.49678658121615266,
          -0.38050213015946543,
          -0.338639727779058,
          -0.37585075211719793,
          -0.4642269349202802,
          -0.5246948494697576,
          -0.49678658121615266,
          -0.347942483863593
         ],
         "yaxis": "y13"
        },
        {
         "marker": {
          "color": "blue"
         },
         "type": "scatter",
         "x": [
          0,
          0.004,
          0.008,
          0.012,
          0.016,
          0.02,
          0.024,
          0.028,
          0.032,
          0.036,
          0.04,
          0.044,
          0.048,
          0.052,
          0.056,
          0.06,
          0.064,
          0.068,
          0.072,
          0.076,
          0.08,
          0.084,
          0.088,
          0.092,
          0.096,
          0.1,
          0.104
         ],
         "xaxis": "x14",
         "y": [
          -0.05025428915847361,
          0.17766323491263342,
          0.43348902723734534,
          0.6707093073929874,
          0.856764429083687,
          0.9916543923094442,
          1.084681953154794,
          1.1498012457465387,
          1.2009664042114812,
          1.247480184634156,
          1.2846912089722962,
          1.3079480991836334,
          1.321902233310436,
          1.331204989394971,
          1.3451591235217735,
          1.3637646356908435,
          1.3730673917753784,
          1.3591132576485758,
          1.3265536113527034,
          1.2846912089722962,
          1.2335260505073538,
          1.1684067579156088,
          1.084681953154794,
          0.9683975020981067,
          0.8149020267032796,
          0.6334982830548475,
          0.4148835150682754
         ],
         "yaxis": "y14"
        },
        {
         "marker": {
          "color": "blue"
         },
         "type": "scatter",
         "x": [
          0.108,
          0.112,
          0.116,
          0.12,
          0.124,
          0.128,
          0.132,
          0.136,
          0.14,
          0.144,
          0.148,
          0.152,
          0.156,
          0.16,
          0.164,
          0.168,
          0.172,
          0.176,
          0.18,
          0.184,
          0.188,
          0.192,
          0.196,
          0.2,
          0.204,
          0.208,
          0.212,
          0.216,
          0.22,
          0.224,
          0.228,
          0.232,
          0.236,
          0.24,
          0.244,
          0.248,
          0.252,
          0.256
         ],
         "xaxis": "x14",
         "y": [
          0.19161736903943588,
          -0.017694642862601178,
          -0.1944470084687658,
          -0.33398834973679054,
          -0.4642269349202802,
          -0.6177224103151074,
          -0.822383044174877,
          -1.050300568245984,
          -1.2596125801480211,
          -1.4038052994583132,
          -1.4735759700923257,
          -1.4735759700923257,
          -1.4270621896696507,
          -1.3526401409933708,
          -1.2828694703593584,
          -1.2177501777676136,
          -1.1526308851758689,
          -1.0642547023727864,
          -0.9340161171892968,
          -0.7619151296253996,
          -0.5712086298924325,
          -0.3944562642862679,
          -0.2549149230182432,
          -0.1525846060883584,
          -0.10607082566568349,
          -0.11072220370795098,
          -0.16653874021516085,
          -0.26886905714504566,
          -0.3851535082017329,
          -0.49678658121615266,
          -0.5805113859769675,
          -0.6363279224841774,
          -0.6595848126955148,
          -0.6549334346532474,
          -0.6177224103151074,
          -0.547951739681095,
          -0.4409700447089428,
          -0.2967773253986506
         ],
         "yaxis": "y14"
        },
        {
         "marker": {
          "color": "blue"
         },
         "type": "scatter",
         "x": [
          0,
          0.004,
          0.008,
          0.012,
          0.016,
          0.02,
          0.024,
          0.028,
          0.032,
          0.036,
          0.04,
          0.044,
          0.048,
          0.052,
          0.056,
          0.06,
          0.064,
          0.068,
          0.072,
          0.076,
          0.08,
          0.084,
          0.088,
          0.092
         ],
         "xaxis": "x15",
         "y": [
          -0.11072220370795098,
          0.05672740581367866,
          0.35441560051879806,
          0.7497827341115347,
          1.1684067579156088,
          1.5358656232547405,
          1.824251061875325,
          2.0475172079041646,
          2.233572329594864,
          2.4010219391164935,
          2.5684715486381235,
          2.7219670240329505,
          2.847554231174173,
          2.9033707676813827,
          2.894068011596848,
          2.8242973409628354,
          2.7312697801174854,
          2.6196367071030657,
          2.4428843414969013,
          2.1591502809185843,
          1.768434525368115,
          1.312599477225901,
          0.8707185632104895,
          0.46604867353321777
         ],
         "yaxis": "y15"
        },
        {
         "marker": {
          "color": "blue"
         },
         "type": "scatter",
         "x": [
          0.096,
          0.1,
          0.104,
          0.108,
          0.112,
          0.116,
          0.12,
          0.124,
          0.128,
          0.132,
          0.136,
          0.14,
          0.144,
          0.148,
          0.152,
          0.156,
          0.16,
          0.164,
          0.168,
          0.172,
          0.176,
          0.18,
          0.184,
          0.188,
          0.192,
          0.196,
          0.2,
          0.204,
          0.208,
          0.212,
          0.216,
          0.22,
          0.224,
          0.228,
          0.232,
          0.236,
          0.24,
          0.244,
          0.248,
          0.252,
          0.256,
          0.26,
          0.264,
          0.268,
          0.272
         ],
         "xaxis": "x15",
         "y": [
          0.10324118623635356,
          -0.2456121669337082,
          -0.603768276188305,
          -0.9386674952315642,
          -1.241007067978951,
          -1.478227348134593,
          -1.6549797137407578,
          -1.79917243305105,
          -1.9247596401922722,
          -2.054998225375762,
          -2.1759340544747166,
          -2.255007481193264,
          -2.2875671274891363,
          -2.282915749446869,
          -2.255007481193264,
          -2.2038423227283217,
          -2.1247688960097744,
          -1.9666220425726795,
          -1.7200990063325026,
          -1.4038052994583132,
          -1.0828602145418564,
          -0.840988556343947,
          -0.7060985931181897,
          -0.6688875687800498,
          -0.6921444589913872,
          -0.7386582394140622,
          -0.7991261539635395,
          -0.8642454465552843,
          -0.9293647391470292,
          -0.9991354097810417,
          -1.0642547023727864,
          -1.1293739949645314,
          -1.1944932875562762,
          -1.2596125801480211,
          -1.3200804946974984,
          -1.3851997872892432,
          -1.4549704579232556,
          -1.5479980187686055,
          -1.678236603952095,
          -1.8131265671778525,
          -1.9201082621500047,
          -1.9015027499809347,
          -1.6921907380788976,
          -1.2921722264438935,
          -0.7665665076676671
         ],
         "yaxis": "y15"
        },
        {
         "marker": {
          "color": "blue"
         },
         "type": "scatter",
         "x": [
          0,
          0.004,
          0.008,
          0.012,
          0.016,
          0.02,
          0.024,
          0.028,
          0.032,
          0.036,
          0.04,
          0.044,
          0.048,
          0.052,
          0.056,
          0.06,
          0.064,
          0.068,
          0.072,
          0.076,
          0.08,
          0.084,
          0.088
         ],
         "xaxis": "x16",
         "y": [
          -0.1283956098268109,
          0.07674284031433506,
          0.2627986439307233,
          0.44885444754711146,
          0.6301395895323102,
          0.80188340825513,
          0.9927098735027077,
          1.202618985275043,
          1.4363814052033257,
          1.6939971332875554,
          1.9086769066910803,
          2.1233566800946053,
          2.2998711604486144,
          2.4525323326466766,
          2.5670282117952232,
          2.619505489738307,
          2.6242761513694965,
          2.5622575501640337,
          2.433449686121919,
          2.218769912718394,
          1.9086769066910803,
          1.493629344777599,
          0.9545445804531921
         ],
         "yaxis": "y16"
        },
        {
         "marker": {
          "color": "blue"
         },
         "type": "scatter",
         "x": [
          0.092,
          0.096,
          0.1,
          0.104,
          0.108,
          0.112,
          0.116,
          0.12,
          0.124,
          0.128,
          0.132,
          0.136,
          0.14,
          0.144,
          0.148,
          0.152,
          0.156,
          0.16,
          0.164,
          0.168
         ],
         "xaxis": "x16",
         "y": [
          0.30096393698023877,
          -0.41463530769817736,
          -1.1350052140077829,
          -1.7647325493247892,
          -2.251340035706112,
          -2.575745026626994,
          -2.7331768604562456,
          -2.7665714918745716,
          -2.7093235523002983,
          -2.5948276731517517,
          -2.456478485847258,
          -2.3085879752803855,
          -2.1511561414511338,
          -1.9698709994659351,
          -1.7647325493247892,
          -1.5500527759212643,
          -1.3544556490424973,
          -1.1731705070572984,
          -0.9871147034409102,
          -0.7390402986190593
         ],
         "yaxis": "y16"
        },
        {
         "marker": {
          "color": "blue"
         },
         "type": "scatter",
         "x": [
          0,
          0.004,
          0.008,
          0.012,
          0.016,
          0.02,
          0.024,
          0.028,
          0.032,
          0.036,
          0.04,
          0.044,
          0.048,
          0.052,
          0.056,
          0.06,
          0.064,
          0.068,
          0.072,
          0.076,
          0.08,
          0.084,
          0.088,
          0.092,
          0.096,
          0.1,
          0.104,
          0.108,
          0.112,
          0.116,
          0.12,
          0.124,
          0.128,
          0.132,
          0.136
         ],
         "xaxis": "x17",
         "y": [
          -0.0950009784084848,
          0.0576601937895773,
          0.13399077988860836,
          0.17215607293812388,
          0.18169739620050276,
          0.17215607293812388,
          0.162614749675745,
          0.16738541130693443,
          0.19123871946288165,
          0.23417467414358661,
          0.32004658350499654,
          0.4917904022278164,
          0.7541767919432356,
          1.0785817828641175,
          1.3600508191042946,
          1.5604186076142512,
          1.6796851483939872,
          1.7178504414435027,
          1.698767794918745,
          1.6319785320820928,
          1.5461066227206828,
          1.4793173598840306,
          1.450693390096894,
          1.4697760366216517,
          1.5174826529335461,
          1.56995993087663,
          1.603354562294956,
          1.5890425774013879,
          1.536565299458304,
          1.4316107435721364,
          1.2741789097428846,
          1.0547284747081704,
          0.7732594384679934,
          0.48701974059662695,
          0.23894533577477606
         ],
         "yaxis": "y17"
        },
        {
         "marker": {
          "color": "blue"
         },
         "type": "scatter",
         "x": [
          0.14,
          0.144,
          0.148,
          0.152,
          0.156,
          0.16,
          0.164,
          0.168,
          0.172,
          0.176,
          0.18,
          0.184,
          0.188,
          0.192,
          0.196,
          0.2,
          0.204,
          0.208,
          0.212,
          0.216,
          0.22,
          0.224,
          0.228,
          0.232,
          0.236,
          0.24
         ],
         "xaxis": "x17",
         "y": [
          0.07197217868314562,
          -0.009129069047074874,
          -0.03298237720302208,
          -0.018670392309453755,
          -0.05206502372777984,
          -0.18564354940108418,
          -0.4289472925917457,
          -0.7294989753566804,
          -0.963261395284963,
          -1.082527936064699,
          -1.0777572744335095,
          -0.963261395284963,
          -0.7628936067750065,
          -0.5052778786907767,
          -0.281056782024873,
          -0.1665609028763264,
          -0.23812082734416803,
          -0.49573655542839784,
          -0.8917014708171215,
          -1.3162903559929817,
          -1.6550073318074319,
          -1.8315218121614412,
          -1.817209827267873,
          -1.6073007154955377,
          -1.235189108262761,
          -0.7772055916685748
         ],
         "yaxis": "y17"
        },
        {
         "marker": {
          "color": "blue"
         },
         "type": "scatter",
         "x": [
          0,
          0.004,
          0.008,
          0.012,
          0.016,
          0.02,
          0.024,
          0.028,
          0.032,
          0.036,
          0.04,
          0.044,
          0.048,
          0.052,
          0.056,
          0.06,
          0.064,
          0.068,
          0.072,
          0.076,
          0.08,
          0.084,
          0.088,
          0.092,
          0.096,
          0.1,
          0.104,
          0.108
         ],
         "xaxis": "x18",
         "y": [
          -0.1944470084687658,
          0.024167759517806232,
          0.14975496665902846,
          0.21022288120850582,
          0.24278252750437826,
          0.29394768596932064,
          0.3590669785610655,
          0.4567459174486828,
          0.5869845026321725,
          0.7497827341115347,
          0.9311864777599668,
          1.103287465323864,
          1.2428288065918887,
          1.3544618796063084,
          1.4567921965361932,
          1.5544711354238105,
          1.6288931841000904,
          1.6707555864804977,
          1.6754069645227652,
          1.6474986962691602,
          1.6009849158464853,
          1.5265628671702056,
          1.4242325502403208,
          1.293993965056831,
          1.1218929774929338,
          0.9172323436331643,
          0.6800120634775223,
          0.43348902723734534
         ],
         "yaxis": "y18"
        },
        {
         "marker": {
          "color": "blue"
         },
         "type": "scatter",
         "x": [
          0.112,
          0.116,
          0.12,
          0.124,
          0.128,
          0.132,
          0.136,
          0.14,
          0.144,
          0.148,
          0.152,
          0.156,
          0.16,
          0.164,
          0.168,
          0.172,
          0.176,
          0.18,
          0.184,
          0.188,
          0.192,
          0.196,
          0.2,
          0.204,
          0.208
         ],
         "xaxis": "x18",
         "y": [
          0.1823146129549009,
          -0.04560291111620612,
          -0.2502635449759757,
          -0.44562142275121025,
          -0.6549334346532474,
          -0.9061078489356919,
          -1.1944932875562762,
          -1.4828787261768606,
          -1.7200990063325026,
          -1.8689431036850623,
          -1.9387137743190745,
          -1.934062396276807,
          -1.8689431036850623,
          -1.7573100306706424,
          -1.6270714454871527,
          -1.487530104219128,
          -1.3479887629511034,
          -1.1944932875562762,
          -1.031695056076914,
          -0.8735482026398194,
          -0.7293554833295272,
          -0.603768276188305,
          -0.49213520317388515,
          -0.3944562642862679,
          -0.26886905714504566
         ],
         "yaxis": "y18"
        },
        {
         "marker": {
          "color": "blue"
         },
         "type": "scatter",
         "x": [
          0,
          0.004,
          0.008,
          0.012,
          0.016,
          0.02,
          0.024,
          0.028,
          0.032,
          0.036,
          0.04,
          0.044,
          0.048,
          0.052,
          0.056,
          0.06,
          0.064,
          0.068,
          0.072,
          0.076,
          0.08,
          0.084,
          0.088,
          0.092,
          0.096,
          0.1,
          0.104,
          0.108,
          0.112,
          0.116,
          0.12,
          0.124,
          0.128,
          0.132,
          0.136,
          0.14,
          0.144
         ],
         "xaxis": "x19",
         "y": [
          -0.05683568535896928,
          0.03857754726481954,
          0.10536681010147171,
          0.1387614415197978,
          0.13399077988860836,
          0.10536681010147171,
          0.07674284031433506,
          0.07674284031433506,
          0.09105482520790338,
          0.11490813336385058,
          0.16738541130693443,
          0.28665195208667044,
          0.4774784173342481,
          0.7350941454184778,
          0.9593152420843816,
          1.116747075913633,
          1.1930776620126642,
          1.202618985275043,
          1.178765677119096,
          1.1453710457007698,
          1.1215177375448226,
          1.1215177375448226,
          1.1549123689631486,
          1.2073896469062326,
          1.2598669248493164,
          1.298032217898832,
          1.321885526054779,
          1.3361975109483475,
          1.331426849317158,
          1.3171148644235897,
          1.2789495713740742,
          1.2169309701686115,
          1.1310590608072015,
          1.0117925200274656,
          0.8400487013046456,
          0.6205982662699313,
          0.367753199816891
         ],
         "yaxis": "y19"
        },
        {
         "marker": {
          "color": "blue"
         },
         "type": "scatter",
         "x": [
          0.148,
          0.152,
          0.156,
          0.16,
          0.164,
          0.168,
          0.172,
          0.176,
          0.18,
          0.184,
          0.188,
          0.192,
          0.196,
          0.2,
          0.204,
          0.208,
          0.212,
          0.216,
          0.22,
          0.224,
          0.228,
          0.232,
          0.236,
          0.24,
          0.244,
          0.248,
          0.252,
          0.256,
          0.26,
          0.264,
          0.268,
          0.272,
          0.276
         ],
         "xaxis": "x19",
         "y": [
          0.1387614415197978,
          -0.028211715571832635,
          -0.11885428656443202,
          -0.16179024124513697,
          -0.17133156450751585,
          -0.16179024124513697,
          -0.14747825635156867,
          -0.17133156450751585,
          -0.323992736705578,
          -0.6102324345769444,
          -0.9775733801785313,
          -1.2590424164187084,
          -1.4021622653543917,
          -1.440327558403907,
          -1.4450982200350966,
          -1.449868881666286,
          -1.4307862351415281,
          -1.3783089571984444,
          -1.3019783710994133,
          -1.211335800106814,
          -1.0682159511711307,
          -0.8535361777676059,
          -0.5911497880521867,
          -0.35738736812390404,
          -0.24289148897535748,
          -0.27628612039368355,
          -0.45280060074769285,
          -0.6817923590447861,
          -0.8487655161364165,
          -0.8678481626611743,
          -0.7104163288319226,
          -0.4671125856412612,
          -0.2333501657129786
         ],
         "yaxis": "y19"
        },
        {
         "marker": {
          "color": "blue"
         },
         "type": "scatter",
         "x": [
          0,
          0.004,
          0.008,
          0.012,
          0.016,
          0.02,
          0.024,
          0.028,
          0.032,
          0.036,
          0.04,
          0.044,
          0.048,
          0.052,
          0.056,
          0.06,
          0.064,
          0.068,
          0.072,
          0.076,
          0.08,
          0.084,
          0.088
         ],
         "xaxis": "x20",
         "y": [
          -0.09211669153888102,
          0.07068153994048114,
          0.34511284443426304,
          0.7079203317311272,
          1.1079388433661315,
          1.4893518428320656,
          1.8102969277485224,
          2.052168585946432,
          2.224269573510329,
          2.3405540245670164,
          2.4010219391164935,
          2.3824164269474237,
          2.261480597848469,
          2.0614713420309667,
          1.8102969277485224,
          1.559122513466078,
          1.3451591235217735,
          1.1777095140001437,
          1.038168172732119,
          0.9079295875486294,
          0.7497827341115347,
          0.5451221002517651,
          0.3218559542229256
         ],
         "yaxis": "y20"
        },
        {
         "marker": {
          "color": "blue"
         },
         "type": "scatter",
         "x": [
          0.092,
          0.096,
          0.1,
          0.104,
          0.108,
          0.112,
          0.116,
          0.12,
          0.124,
          0.128,
          0.132,
          0.136,
          0.14,
          0.144,
          0.148,
          0.152,
          0.156,
          0.16,
          0.164,
          0.168,
          0.172,
          0.176,
          0.18,
          0.184,
          0.188,
          0.192,
          0.196,
          0.2,
          0.204,
          0.208,
          0.212,
          0.216,
          0.22,
          0.224,
          0.228,
          0.232,
          0.236,
          0.24,
          0.244,
          0.248,
          0.252
         ],
         "xaxis": "x20",
         "y": [
          0.11719532036315604,
          -0.03164877698940365,
          -0.12932771587702094,
          -0.21305252063783575,
          -0.2967773253986506,
          -0.39910764232853535,
          -0.5060893373006876,
          -0.6270251663996423,
          -0.7526123735408646,
          -0.8549426904707494,
          -0.9247133611047618,
          -0.9526216293583667,
          -0.9526216293583667,
          -0.9200619830624943,
          -0.831685800259412,
          -0.6921444589913872,
          -0.55725449576563,
          -0.47352969100481523,
          -0.45957555687801277,
          -0.5014379592584202,
          -0.585162764019235,
          -0.6967958370336548,
          -0.8084289100480745,
          -0.8921537148088893,
          -0.9340161171892968,
          -0.9572730074006341,
          -0.9851812756542391,
          -1.0177409219501115,
          -1.0689060804150539,
          -1.1340253730067988,
          -1.1758877753872061,
          -1.1619336412604038,
          -1.0549519462882515,
          -0.8921537148088893,
          -0.7433096174563296,
          -0.6456306785687124,
          -0.603768276188305,
          -0.5712086298924325,
          -0.5339976055542925,
          -0.4688783129625477,
          -0.3432911058213255
         ],
         "yaxis": "y20"
        },
        {
         "marker": {
          "color": "blue"
         },
         "type": "scatter",
         "x": [
          0,
          0.004,
          0.008,
          0.012,
          0.016,
          0.02,
          0.024,
          0.028,
          0.032,
          0.036,
          0.04,
          0.044,
          0.048,
          0.052,
          0.056,
          0.06,
          0.064,
          0.068,
          0.072,
          0.076,
          0.08,
          0.084,
          0.088,
          0.092,
          0.096,
          0.1,
          0.104,
          0.108,
          0.112,
          0.116,
          0.12,
          0.124,
          0.128,
          0.132,
          0.136,
          0.14,
          0.144,
          0.148,
          0.152,
          0.156,
          0.16,
          0.164,
          0.168
         ],
         "xaxis": "x21",
         "y": [
          -1.0921629706263913,
          0.014865003433271252,
          1.1777095140001437,
          2.1498475248340494,
          2.791737694666963,
          3.0661689991607446,
          3.0615176211184774,
          2.8661597433432426,
          2.5870770608071934,
          2.2847374880598066,
          1.9730951592278847,
          1.6381959401846253,
          1.2335260505073538,
          0.7823423804074071,
          0.34976422247653055,
          0.0009108693064687816,
          -0.20840114259556827,
          -0.2967773253986506,
          -0.30608008148318555,
          -0.2921259473563831,
          -0.2921259473563831,
          -0.31073145952545306,
          -0.32933697169452303,
          -0.33398834973679054,
          -0.320034215609988,
          -0.2967773253986506,
          -0.26886905714504566,
          -0.23165803280690572,
          -0.17584149629969584,
          -0.08281393545434604,
          0.03347051560234121,
          0.17766323491263342,
          0.35441560051879806,
          0.5404707222094977,
          0.7218744658579298,
          0.8846726973372919,
          1.0056085264362467,
          1.0800305751125265,
          1.112590221408399,
          1.0893333311970614,
          0.9823516362249092,
          0.7869937584496746,
          0.5218652100404276
         ],
         "yaxis": "y21"
        },
        {
         "marker": {
          "color": "blue"
         },
         "type": "scatter",
         "x": [
          0.172,
          0.176,
          0.18,
          0.184,
          0.188,
          0.192,
          0.196,
          0.2,
          0.204,
          0.208,
          0.212,
          0.216,
          0.22,
          0.224,
          0.228
         ],
         "xaxis": "x21",
         "y": [
          0.21487425925077333,
          -0.09211669153888102,
          -0.40841039841307036,
          -0.7433096174563296,
          -1.0456491902037166,
          -1.287520848401626,
          -1.441016323796453,
          -1.4642732140077905,
          -1.3619428970779057,
          -1.1665850193026712,
          -0.9712271415274366,
          -0.8549426904707494,
          -0.7898233978790046,
          -0.7107499711604572,
          -0.5339976055542925
         ],
         "yaxis": "y21"
        },
        {
         "marker": {
          "color": "blue"
         },
         "type": "scatter",
         "x": [
          0,
          0.004,
          0.008,
          0.012,
          0.016,
          0.02,
          0.024,
          0.028,
          0.032,
          0.036,
          0.04,
          0.044,
          0.048,
          0.052,
          0.056,
          0.06,
          0.064,
          0.068,
          0.072,
          0.076,
          0.08,
          0.084,
          0.088,
          0.092
         ],
         "xaxis": "x22",
         "y": [
          0.0009108693064687816,
          0.29859906401158814,
          0.6753606854352548,
          1.0893333311970614,
          1.4195811721980534,
          1.577728025635148,
          1.531214245212473,
          1.349810501564041,
          1.131195733577469,
          0.8893240753795594,
          0.6241955269703124,
          0.34046146639199554,
          0.09393843015181859,
          -0.03630015503167114,
          -0.0083918867780662,
          0.15440634470129597,
          0.4055807589837404,
          0.6800120634775223,
          0.8939754534218269,
          0.9963057703517116,
          0.9497919899290368,
          0.8009478925764771,
          0.61024139284351,
          0.39627800289920545
         ],
         "yaxis": "y22"
        },
        {
         "marker": {
          "color": "blue"
         },
         "type": "scatter",
         "x": [
          0.096,
          0.1,
          0.104,
          0.108,
          0.112,
          0.116,
          0.12,
          0.124,
          0.128,
          0.132,
          0.136,
          0.14,
          0.144,
          0.148,
          0.152
         ],
         "xaxis": "x22",
         "y": [
          0.09858980819408607,
          -0.2967773253986506,
          -0.6874930809491198,
          -0.8828509587243544,
          -0.7526123735408646,
          -0.38050213015946543,
          -0.017694642862601178,
          0.11254394232088855,
          -0.04560291111620612,
          -0.4177131544976053,
          -0.8502913124284819,
          -1.1619336412604038,
          -1.268915336232556,
          -1.1200712388799963,
          -0.7665665076676671
         ],
         "yaxis": "y22"
        },
        {
         "marker": {
          "color": "blue"
         },
         "type": "scatter",
         "x": [
          0,
          0.004,
          0.008,
          0.012,
          0.016,
          0.02,
          0.024,
          0.028,
          0.032,
          0.036,
          0.04,
          0.044,
          0.048,
          0.052,
          0.056,
          0.06,
          0.064,
          0.068,
          0.072,
          0.076,
          0.08,
          0.084,
          0.088,
          0.092,
          0.096,
          0.1,
          0.104,
          0.108,
          0.112,
          0.116,
          0.12,
          0.124,
          0.128
         ],
         "xaxis": "x23",
         "y": [
          -0.21770389868010326,
          0.135800832532226,
          0.5451221002517651,
          0.9265350997176993,
          1.2428288065918887,
          1.4986545989166007,
          1.6986638547341026,
          1.8335538179598598,
          1.8754162203402673,
          1.8009941716639875,
          1.6568014523536954,
          1.5079573550011356,
          1.3963242819867159,
          1.3079480991836334,
          1.2056177822537488,
          1.103287465323864,
          1.0428195507743865,
          1.0521223068589216,
          1.1172415994506664,
          1.1684067579156088,
          1.1591040018310739,
          1.0614250629434565,
          0.8846726973372919,
          0.6334982830548475,
          0.34976422247653055,
          0.126498076447691,
          0.0846356740672836,
          0.2846449298847857,
          0.6939661976043248,
          1.1172415994506664,
          1.349810501564041,
          1.293993965056831,
          0.9497919899290368
         ],
         "yaxis": "y23"
        },
        {
         "marker": {
          "color": "blue"
         },
         "type": "scatter",
         "x": [
          0.132,
          0.136,
          0.14,
          0.144,
          0.148,
          0.152,
          0.156,
          0.16,
          0.164,
          0.168,
          0.172,
          0.176,
          0.18,
          0.184,
          0.188
         ],
         "xaxis": "x23",
         "y": [
          0.43348902723734534,
          -0.2037497645533008,
          -0.9200619830624943,
          -1.580557665064478,
          -2.064300981460297,
          -2.292218505531404,
          -2.2736129933623337,
          -2.0875578716716343,
          -1.8038238110933174,
          -1.4503190798809882,
          -1.0921629706263913,
          -0.8084289100480745,
          -0.6363279224841774,
          -0.55725449576563,
          -0.42701591058214033
         ],
         "yaxis": "y23"
        },
        {
         "marker": {
          "color": "blue"
         },
         "type": "scatter",
         "x": [
          0,
          0.004,
          0.008,
          0.012,
          0.016,
          0.02,
          0.024,
          0.028,
          0.032,
          0.036,
          0.04,
          0.044,
          0.048,
          0.052,
          0.056,
          0.06,
          0.064,
          0.068,
          0.072,
          0.076,
          0.08,
          0.084,
          0.088,
          0.092,
          0.096,
          0.1,
          0.104,
          0.108,
          0.112,
          0.116,
          0.12,
          0.124,
          0.128,
          0.132,
          0.136,
          0.14,
          0.144
         ],
         "xaxis": "x24",
         "y": [
          -0.02234602090486867,
          0.07068153994048114,
          0.20092012512397087,
          0.3590669785610655,
          0.5544248563363001,
          0.7730396243228721,
          1.0335167946898516,
          1.312599477225901,
          1.6195904280155553,
          1.9591410251010821,
          2.2661319758907363,
          2.470792609750506,
          2.5033522560463783,
          2.4010219391164935,
          2.307994378271144,
          2.3126457563134113,
          2.3824164269474237,
          2.424278829327831,
          2.3452054026092837,
          2.1498475248340494,
          1.8475079520866624,
          1.4893518428320656,
          1.1591040018310739,
          0.9358378558022343,
          0.8939754534218269,
          1.0009571483939792,
          1.228874672465086,
          1.4986545989166007,
          1.7079666108186378,
          1.8102969277485224,
          1.787040037537185,
          1.6847097206073003,
          1.5265628671702056,
          1.3637646356908435,
          1.2381774285496212,
          1.1358471116197364,
          0.9404892338445018
         ],
         "yaxis": "y24"
        },
        {
         "marker": {
          "color": "blue"
         },
         "type": "scatter",
         "x": [
          0.148,
          0.152,
          0.156,
          0.16,
          0.164,
          0.168,
          0.172,
          0.176,
          0.18,
          0.184,
          0.188,
          0.192,
          0.196,
          0.2,
          0.204,
          0.208,
          0.212,
          0.216,
          0.22,
          0.224,
          0.228
         ],
         "xaxis": "x24",
         "y": [
          0.5637276124208351,
          -0.40375902037080286,
          -2.380594688334486,
          -4.617907526665149,
          -6.687770755474182,
          -6.990110328221569,
          -5.794706171358824,
          -4.1899807467765395,
          -2.7852645780117578,
          -2.3201267737850086,
          -2.101512005798437,
          -1.9201082621500047,
          -1.8270807013046548,
          -1.8875486158541321,
          -2.0875578716716343,
          -2.3108240177004737,
          -2.4178057126726262,
          -2.3712919322499513,
          -2.1340716520943093,
          -1.6689338478675602,
          -1.0363464341191815
         ],
         "yaxis": "y24"
        }
       ],
       "layout": {
        "showlegend": false,
        "template": {
         "data": {
          "bar": [
           {
            "error_x": {
             "color": "#2a3f5f"
            },
            "error_y": {
             "color": "#2a3f5f"
            },
            "marker": {
             "line": {
              "color": "#E5ECF6",
              "width": 0.5
             },
             "pattern": {
              "fillmode": "overlay",
              "size": 10,
              "solidity": 0.2
             }
            },
            "type": "bar"
           }
          ],
          "barpolar": [
           {
            "marker": {
             "line": {
              "color": "#E5ECF6",
              "width": 0.5
             },
             "pattern": {
              "fillmode": "overlay",
              "size": 10,
              "solidity": 0.2
             }
            },
            "type": "barpolar"
           }
          ],
          "carpet": [
           {
            "aaxis": {
             "endlinecolor": "#2a3f5f",
             "gridcolor": "white",
             "linecolor": "white",
             "minorgridcolor": "white",
             "startlinecolor": "#2a3f5f"
            },
            "baxis": {
             "endlinecolor": "#2a3f5f",
             "gridcolor": "white",
             "linecolor": "white",
             "minorgridcolor": "white",
             "startlinecolor": "#2a3f5f"
            },
            "type": "carpet"
           }
          ],
          "choropleth": [
           {
            "colorbar": {
             "outlinewidth": 0,
             "ticks": ""
            },
            "type": "choropleth"
           }
          ],
          "contour": [
           {
            "colorbar": {
             "outlinewidth": 0,
             "ticks": ""
            },
            "colorscale": [
             [
              0,
              "#0d0887"
             ],
             [
              0.1111111111111111,
              "#46039f"
             ],
             [
              0.2222222222222222,
              "#7201a8"
             ],
             [
              0.3333333333333333,
              "#9c179e"
             ],
             [
              0.4444444444444444,
              "#bd3786"
             ],
             [
              0.5555555555555556,
              "#d8576b"
             ],
             [
              0.6666666666666666,
              "#ed7953"
             ],
             [
              0.7777777777777778,
              "#fb9f3a"
             ],
             [
              0.8888888888888888,
              "#fdca26"
             ],
             [
              1,
              "#f0f921"
             ]
            ],
            "type": "contour"
           }
          ],
          "contourcarpet": [
           {
            "colorbar": {
             "outlinewidth": 0,
             "ticks": ""
            },
            "type": "contourcarpet"
           }
          ],
          "heatmap": [
           {
            "colorbar": {
             "outlinewidth": 0,
             "ticks": ""
            },
            "colorscale": [
             [
              0,
              "#0d0887"
             ],
             [
              0.1111111111111111,
              "#46039f"
             ],
             [
              0.2222222222222222,
              "#7201a8"
             ],
             [
              0.3333333333333333,
              "#9c179e"
             ],
             [
              0.4444444444444444,
              "#bd3786"
             ],
             [
              0.5555555555555556,
              "#d8576b"
             ],
             [
              0.6666666666666666,
              "#ed7953"
             ],
             [
              0.7777777777777778,
              "#fb9f3a"
             ],
             [
              0.8888888888888888,
              "#fdca26"
             ],
             [
              1,
              "#f0f921"
             ]
            ],
            "type": "heatmap"
           }
          ],
          "heatmapgl": [
           {
            "colorbar": {
             "outlinewidth": 0,
             "ticks": ""
            },
            "colorscale": [
             [
              0,
              "#0d0887"
             ],
             [
              0.1111111111111111,
              "#46039f"
             ],
             [
              0.2222222222222222,
              "#7201a8"
             ],
             [
              0.3333333333333333,
              "#9c179e"
             ],
             [
              0.4444444444444444,
              "#bd3786"
             ],
             [
              0.5555555555555556,
              "#d8576b"
             ],
             [
              0.6666666666666666,
              "#ed7953"
             ],
             [
              0.7777777777777778,
              "#fb9f3a"
             ],
             [
              0.8888888888888888,
              "#fdca26"
             ],
             [
              1,
              "#f0f921"
             ]
            ],
            "type": "heatmapgl"
           }
          ],
          "histogram": [
           {
            "marker": {
             "pattern": {
              "fillmode": "overlay",
              "size": 10,
              "solidity": 0.2
             }
            },
            "type": "histogram"
           }
          ],
          "histogram2d": [
           {
            "colorbar": {
             "outlinewidth": 0,
             "ticks": ""
            },
            "colorscale": [
             [
              0,
              "#0d0887"
             ],
             [
              0.1111111111111111,
              "#46039f"
             ],
             [
              0.2222222222222222,
              "#7201a8"
             ],
             [
              0.3333333333333333,
              "#9c179e"
             ],
             [
              0.4444444444444444,
              "#bd3786"
             ],
             [
              0.5555555555555556,
              "#d8576b"
             ],
             [
              0.6666666666666666,
              "#ed7953"
             ],
             [
              0.7777777777777778,
              "#fb9f3a"
             ],
             [
              0.8888888888888888,
              "#fdca26"
             ],
             [
              1,
              "#f0f921"
             ]
            ],
            "type": "histogram2d"
           }
          ],
          "histogram2dcontour": [
           {
            "colorbar": {
             "outlinewidth": 0,
             "ticks": ""
            },
            "colorscale": [
             [
              0,
              "#0d0887"
             ],
             [
              0.1111111111111111,
              "#46039f"
             ],
             [
              0.2222222222222222,
              "#7201a8"
             ],
             [
              0.3333333333333333,
              "#9c179e"
             ],
             [
              0.4444444444444444,
              "#bd3786"
             ],
             [
              0.5555555555555556,
              "#d8576b"
             ],
             [
              0.6666666666666666,
              "#ed7953"
             ],
             [
              0.7777777777777778,
              "#fb9f3a"
             ],
             [
              0.8888888888888888,
              "#fdca26"
             ],
             [
              1,
              "#f0f921"
             ]
            ],
            "type": "histogram2dcontour"
           }
          ],
          "mesh3d": [
           {
            "colorbar": {
             "outlinewidth": 0,
             "ticks": ""
            },
            "type": "mesh3d"
           }
          ],
          "parcoords": [
           {
            "line": {
             "colorbar": {
              "outlinewidth": 0,
              "ticks": ""
             }
            },
            "type": "parcoords"
           }
          ],
          "pie": [
           {
            "automargin": true,
            "type": "pie"
           }
          ],
          "scatter": [
           {
            "fillpattern": {
             "fillmode": "overlay",
             "size": 10,
             "solidity": 0.2
            },
            "type": "scatter"
           }
          ],
          "scatter3d": [
           {
            "line": {
             "colorbar": {
              "outlinewidth": 0,
              "ticks": ""
             }
            },
            "marker": {
             "colorbar": {
              "outlinewidth": 0,
              "ticks": ""
             }
            },
            "type": "scatter3d"
           }
          ],
          "scattercarpet": [
           {
            "marker": {
             "colorbar": {
              "outlinewidth": 0,
              "ticks": ""
             }
            },
            "type": "scattercarpet"
           }
          ],
          "scattergeo": [
           {
            "marker": {
             "colorbar": {
              "outlinewidth": 0,
              "ticks": ""
             }
            },
            "type": "scattergeo"
           }
          ],
          "scattergl": [
           {
            "marker": {
             "colorbar": {
              "outlinewidth": 0,
              "ticks": ""
             }
            },
            "type": "scattergl"
           }
          ],
          "scattermapbox": [
           {
            "marker": {
             "colorbar": {
              "outlinewidth": 0,
              "ticks": ""
             }
            },
            "type": "scattermapbox"
           }
          ],
          "scatterpolar": [
           {
            "marker": {
             "colorbar": {
              "outlinewidth": 0,
              "ticks": ""
             }
            },
            "type": "scatterpolar"
           }
          ],
          "scatterpolargl": [
           {
            "marker": {
             "colorbar": {
              "outlinewidth": 0,
              "ticks": ""
             }
            },
            "type": "scatterpolargl"
           }
          ],
          "scatterternary": [
           {
            "marker": {
             "colorbar": {
              "outlinewidth": 0,
              "ticks": ""
             }
            },
            "type": "scatterternary"
           }
          ],
          "surface": [
           {
            "colorbar": {
             "outlinewidth": 0,
             "ticks": ""
            },
            "colorscale": [
             [
              0,
              "#0d0887"
             ],
             [
              0.1111111111111111,
              "#46039f"
             ],
             [
              0.2222222222222222,
              "#7201a8"
             ],
             [
              0.3333333333333333,
              "#9c179e"
             ],
             [
              0.4444444444444444,
              "#bd3786"
             ],
             [
              0.5555555555555556,
              "#d8576b"
             ],
             [
              0.6666666666666666,
              "#ed7953"
             ],
             [
              0.7777777777777778,
              "#fb9f3a"
             ],
             [
              0.8888888888888888,
              "#fdca26"
             ],
             [
              1,
              "#f0f921"
             ]
            ],
            "type": "surface"
           }
          ],
          "table": [
           {
            "cells": {
             "fill": {
              "color": "#EBF0F8"
             },
             "line": {
              "color": "white"
             }
            },
            "header": {
             "fill": {
              "color": "#C8D4E3"
             },
             "line": {
              "color": "white"
             }
            },
            "type": "table"
           }
          ]
         },
         "layout": {
          "annotationdefaults": {
           "arrowcolor": "#2a3f5f",
           "arrowhead": 0,
           "arrowwidth": 1
          },
          "autotypenumbers": "strict",
          "coloraxis": {
           "colorbar": {
            "outlinewidth": 0,
            "ticks": ""
           }
          },
          "colorscale": {
           "diverging": [
            [
             0,
             "#8e0152"
            ],
            [
             0.1,
             "#c51b7d"
            ],
            [
             0.2,
             "#de77ae"
            ],
            [
             0.3,
             "#f1b6da"
            ],
            [
             0.4,
             "#fde0ef"
            ],
            [
             0.5,
             "#f7f7f7"
            ],
            [
             0.6,
             "#e6f5d0"
            ],
            [
             0.7,
             "#b8e186"
            ],
            [
             0.8,
             "#7fbc41"
            ],
            [
             0.9,
             "#4d9221"
            ],
            [
             1,
             "#276419"
            ]
           ],
           "sequential": [
            [
             0,
             "#0d0887"
            ],
            [
             0.1111111111111111,
             "#46039f"
            ],
            [
             0.2222222222222222,
             "#7201a8"
            ],
            [
             0.3333333333333333,
             "#9c179e"
            ],
            [
             0.4444444444444444,
             "#bd3786"
            ],
            [
             0.5555555555555556,
             "#d8576b"
            ],
            [
             0.6666666666666666,
             "#ed7953"
            ],
            [
             0.7777777777777778,
             "#fb9f3a"
            ],
            [
             0.8888888888888888,
             "#fdca26"
            ],
            [
             1,
             "#f0f921"
            ]
           ],
           "sequentialminus": [
            [
             0,
             "#0d0887"
            ],
            [
             0.1111111111111111,
             "#46039f"
            ],
            [
             0.2222222222222222,
             "#7201a8"
            ],
            [
             0.3333333333333333,
             "#9c179e"
            ],
            [
             0.4444444444444444,
             "#bd3786"
            ],
            [
             0.5555555555555556,
             "#d8576b"
            ],
            [
             0.6666666666666666,
             "#ed7953"
            ],
            [
             0.7777777777777778,
             "#fb9f3a"
            ],
            [
             0.8888888888888888,
             "#fdca26"
            ],
            [
             1,
             "#f0f921"
            ]
           ]
          },
          "colorway": [
           "#636efa",
           "#EF553B",
           "#00cc96",
           "#ab63fa",
           "#FFA15A",
           "#19d3f3",
           "#FF6692",
           "#B6E880",
           "#FF97FF",
           "#FECB52"
          ],
          "font": {
           "color": "#2a3f5f"
          },
          "geo": {
           "bgcolor": "white",
           "lakecolor": "white",
           "landcolor": "#E5ECF6",
           "showlakes": true,
           "showland": true,
           "subunitcolor": "white"
          },
          "hoverlabel": {
           "align": "left"
          },
          "hovermode": "closest",
          "mapbox": {
           "style": "light"
          },
          "paper_bgcolor": "white",
          "plot_bgcolor": "#E5ECF6",
          "polar": {
           "angularaxis": {
            "gridcolor": "white",
            "linecolor": "white",
            "ticks": ""
           },
           "bgcolor": "#E5ECF6",
           "radialaxis": {
            "gridcolor": "white",
            "linecolor": "white",
            "ticks": ""
           }
          },
          "scene": {
           "xaxis": {
            "backgroundcolor": "#E5ECF6",
            "gridcolor": "white",
            "gridwidth": 2,
            "linecolor": "white",
            "showbackground": true,
            "ticks": "",
            "zerolinecolor": "white"
           },
           "yaxis": {
            "backgroundcolor": "#E5ECF6",
            "gridcolor": "white",
            "gridwidth": 2,
            "linecolor": "white",
            "showbackground": true,
            "ticks": "",
            "zerolinecolor": "white"
           },
           "zaxis": {
            "backgroundcolor": "#E5ECF6",
            "gridcolor": "white",
            "gridwidth": 2,
            "linecolor": "white",
            "showbackground": true,
            "ticks": "",
            "zerolinecolor": "white"
           }
          },
          "shapedefaults": {
           "line": {
            "color": "#2a3f5f"
           }
          },
          "ternary": {
           "aaxis": {
            "gridcolor": "white",
            "linecolor": "white",
            "ticks": ""
           },
           "baxis": {
            "gridcolor": "white",
            "linecolor": "white",
            "ticks": ""
           },
           "bgcolor": "#E5ECF6",
           "caxis": {
            "gridcolor": "white",
            "linecolor": "white",
            "ticks": ""
           }
          },
          "title": {
           "x": 0.05
          },
          "xaxis": {
           "automargin": true,
           "gridcolor": "white",
           "linecolor": "white",
           "ticks": "",
           "title": {
            "standoff": 15
           },
           "zerolinecolor": "white",
           "zerolinewidth": 2
          },
          "yaxis": {
           "automargin": true,
           "gridcolor": "white",
           "linecolor": "white",
           "ticks": "",
           "title": {
            "standoff": 15
           },
           "zerolinecolor": "white",
           "zerolinewidth": 2
          }
         }
        },
        "xaxis": {
         "anchor": "y",
         "domain": [
          0,
          0.16799999999999998
         ],
         "matches": "x21",
         "showticklabels": false
        },
        "xaxis10": {
         "anchor": "y10",
         "domain": [
          0.832,
          1
         ],
         "matches": "x25",
         "showticklabels": false
        },
        "xaxis11": {
         "anchor": "y11",
         "domain": [
          0,
          0.16799999999999998
         ],
         "matches": "x21",
         "showticklabels": false
        },
        "xaxis12": {
         "anchor": "y12",
         "domain": [
          0.208,
          0.376
         ],
         "matches": "x22",
         "showticklabels": false
        },
        "xaxis13": {
         "anchor": "y13",
         "domain": [
          0.416,
          0.584
         ],
         "matches": "x23",
         "showticklabels": false
        },
        "xaxis14": {
         "anchor": "y14",
         "domain": [
          0.624,
          0.792
         ],
         "matches": "x24",
         "showticklabels": false
        },
        "xaxis15": {
         "anchor": "y15",
         "domain": [
          0.832,
          1
         ],
         "matches": "x25",
         "showticklabels": false
        },
        "xaxis16": {
         "anchor": "y16",
         "domain": [
          0,
          0.16799999999999998
         ],
         "matches": "x21",
         "showticklabels": false
        },
        "xaxis17": {
         "anchor": "y17",
         "domain": [
          0.208,
          0.376
         ],
         "matches": "x22",
         "showticklabels": false
        },
        "xaxis18": {
         "anchor": "y18",
         "domain": [
          0.416,
          0.584
         ],
         "matches": "x23",
         "showticklabels": false
        },
        "xaxis19": {
         "anchor": "y19",
         "domain": [
          0.624,
          0.792
         ],
         "matches": "x24",
         "showticklabels": false
        },
        "xaxis2": {
         "anchor": "y2",
         "domain": [
          0.208,
          0.376
         ],
         "matches": "x22",
         "showticklabels": false
        },
        "xaxis20": {
         "anchor": "y20",
         "domain": [
          0.832,
          1
         ],
         "matches": "x25",
         "showticklabels": false
        },
        "xaxis21": {
         "anchor": "y21",
         "domain": [
          0,
          0.16799999999999998
         ]
        },
        "xaxis22": {
         "anchor": "y22",
         "domain": [
          0.208,
          0.376
         ]
        },
        "xaxis23": {
         "anchor": "y23",
         "domain": [
          0.416,
          0.584
         ]
        },
        "xaxis24": {
         "anchor": "y24",
         "domain": [
          0.624,
          0.792
         ]
        },
        "xaxis25": {
         "anchor": "y25",
         "domain": [
          0.832,
          1
         ]
        },
        "xaxis3": {
         "anchor": "y3",
         "domain": [
          0.416,
          0.584
         ],
         "matches": "x23",
         "showticklabels": false
        },
        "xaxis4": {
         "anchor": "y4",
         "domain": [
          0.624,
          0.792
         ],
         "matches": "x24",
         "showticklabels": false
        },
        "xaxis5": {
         "anchor": "y5",
         "domain": [
          0.832,
          1
         ],
         "matches": "x25",
         "showticklabels": false
        },
        "xaxis6": {
         "anchor": "y6",
         "domain": [
          0,
          0.16799999999999998
         ],
         "matches": "x21",
         "showticklabels": false
        },
        "xaxis7": {
         "anchor": "y7",
         "domain": [
          0.208,
          0.376
         ],
         "matches": "x22",
         "showticklabels": false
        },
        "xaxis8": {
         "anchor": "y8",
         "domain": [
          0.416,
          0.584
         ],
         "matches": "x23",
         "showticklabels": false
        },
        "xaxis9": {
         "anchor": "y9",
         "domain": [
          0.624,
          0.792
         ],
         "matches": "x24",
         "showticklabels": false
        },
        "yaxis": {
         "anchor": "x",
         "domain": [
          0.848,
          1
         ]
        },
        "yaxis10": {
         "anchor": "x10",
         "domain": [
          0.6359999999999999,
          0.7879999999999999
         ],
         "matches": "y6",
         "showticklabels": false
        },
        "yaxis11": {
         "anchor": "x11",
         "domain": [
          0.424,
          0.576
         ]
        },
        "yaxis12": {
         "anchor": "x12",
         "domain": [
          0.424,
          0.576
         ],
         "matches": "y11",
         "showticklabels": false
        },
        "yaxis13": {
         "anchor": "x13",
         "domain": [
          0.424,
          0.576
         ],
         "matches": "y11",
         "showticklabels": false
        },
        "yaxis14": {
         "anchor": "x14",
         "domain": [
          0.424,
          0.576
         ],
         "matches": "y11",
         "showticklabels": false
        },
        "yaxis15": {
         "anchor": "x15",
         "domain": [
          0.424,
          0.576
         ],
         "matches": "y11",
         "showticklabels": false
        },
        "yaxis16": {
         "anchor": "x16",
         "domain": [
          0.212,
          0.364
         ]
        },
        "yaxis17": {
         "anchor": "x17",
         "domain": [
          0.212,
          0.364
         ],
         "matches": "y16",
         "showticklabels": false
        },
        "yaxis18": {
         "anchor": "x18",
         "domain": [
          0.212,
          0.364
         ],
         "matches": "y16",
         "showticklabels": false
        },
        "yaxis19": {
         "anchor": "x19",
         "domain": [
          0.212,
          0.364
         ],
         "matches": "y16",
         "showticklabels": false
        },
        "yaxis2": {
         "anchor": "x2",
         "domain": [
          0.848,
          1
         ],
         "matches": "y",
         "showticklabels": false
        },
        "yaxis20": {
         "anchor": "x20",
         "domain": [
          0.212,
          0.364
         ],
         "matches": "y16",
         "showticklabels": false
        },
        "yaxis21": {
         "anchor": "x21",
         "domain": [
          0,
          0.152
         ]
        },
        "yaxis22": {
         "anchor": "x22",
         "domain": [
          0,
          0.152
         ],
         "matches": "y21",
         "showticklabels": false
        },
        "yaxis23": {
         "anchor": "x23",
         "domain": [
          0,
          0.152
         ],
         "matches": "y21",
         "showticklabels": false
        },
        "yaxis24": {
         "anchor": "x24",
         "domain": [
          0,
          0.152
         ],
         "matches": "y21",
         "showticklabels": false
        },
        "yaxis25": {
         "anchor": "x25",
         "domain": [
          0,
          0.152
         ],
         "matches": "y21",
         "showticklabels": false
        },
        "yaxis3": {
         "anchor": "x3",
         "domain": [
          0.848,
          1
         ],
         "matches": "y",
         "showticklabels": false
        },
        "yaxis4": {
         "anchor": "x4",
         "domain": [
          0.848,
          1
         ],
         "matches": "y",
         "showticklabels": false
        },
        "yaxis5": {
         "anchor": "x5",
         "domain": [
          0.848,
          1
         ],
         "matches": "y",
         "showticklabels": false
        },
        "yaxis6": {
         "anchor": "x6",
         "domain": [
          0.6359999999999999,
          0.7879999999999999
         ]
        },
        "yaxis7": {
         "anchor": "x7",
         "domain": [
          0.6359999999999999,
          0.7879999999999999
         ],
         "matches": "y6",
         "showticklabels": false
        },
        "yaxis8": {
         "anchor": "x8",
         "domain": [
          0.6359999999999999,
          0.7879999999999999
         ],
         "matches": "y6",
         "showticklabels": false
        },
        "yaxis9": {
         "anchor": "x9",
         "domain": [
          0.6359999999999999,
          0.7879999999999999
         ],
         "matches": "y6",
         "showticklabels": false
        }
       }
      }
     },
     "metadata": {},
     "output_type": "display_data"
    }
   ],
   "source": [
    "pipe.plot_medoid()"
   ]
  },
  {
   "cell_type": "code",
   "execution_count": 12,
   "metadata": {},
   "outputs": [],
   "source": [
    "a = pickle.dumps(pipe)"
   ]
  },
  {
   "cell_type": "code",
   "execution_count": 13,
   "metadata": {},
   "outputs": [],
   "source": [
    "b = pickle.loads(a)"
   ]
  },
  {
   "cell_type": "code",
   "execution_count": 14,
   "metadata": {},
   "outputs": [
    {
     "data": {
      "text/plain": [
       "array([[[-2.32248629e+00],\n",
       "        [-1.85167433e+00],\n",
       "        [-1.81113840e+00],\n",
       "        [-1.81113840e+00],\n",
       "        [-1.79107932e+00],\n",
       "        [-1.40529536e+00],\n",
       "        [-1.15462650e+00],\n",
       "        [-7.68255243e-01],\n",
       "        [-7.42591216e-01],\n",
       "        [-7.42591216e-01],\n",
       "        [-7.42591216e-01],\n",
       "        [-7.42591216e-01],\n",
       "        [-6.90283562e-01],\n",
       "        [-2.81436006e-01],\n",
       "        [-1.92674519e-01],\n",
       "        [-1.08164604e-01],\n",
       "        [ 1.36746884e-01],\n",
       "        [ 3.48547945e-01],\n",
       "        [ 4.06703486e-01],\n",
       "        [ 4.07318395e-01],\n",
       "        [ 4.05846496e-01],\n",
       "        [ 4.06226497e-01],\n",
       "        [ 4.45964893e-01],\n",
       "        [ 6.07642039e-01],\n",
       "        [ 6.46759996e-01],\n",
       "        [ 6.46420907e-01],\n",
       "        [ 6.46292139e-01],\n",
       "        [ 6.45296280e-01],\n",
       "        [ 6.62982563e-01],\n",
       "        [ 7.50631234e-01],\n",
       "        [ 8.49609630e-01],\n",
       "        [ 8.80112115e-01],\n",
       "        [ 8.79456573e-01],\n",
       "        [ 8.76905585e-01],\n",
       "        [ 8.76905146e-01],\n",
       "        [ 8.76905146e-01],\n",
       "        [ 8.76905121e-01],\n",
       "        [ 8.76905074e-01],\n",
       "        [ 8.76905035e-01],\n",
       "        [ 8.76906598e-01],\n",
       "        [ 8.96375018e-01],\n",
       "        [ 8.97709264e-01],\n",
       "        [ 9.51861913e-01],\n",
       "        [ 1.04473616e+00],\n",
       "        [ 9.06993080e-01],\n",
       "        [ 7.39433575e-01],\n",
       "        [ 4.89963141e-01],\n",
       "        [ 1.64924486e-01],\n",
       "        [-3.08773930e-01],\n",
       "        [-9.07297104e-01]],\n",
       "\n",
       "       [[-2.59912344e+00],\n",
       "        [-2.51878931e+00],\n",
       "        [-2.47564857e+00],\n",
       "        [-1.80072188e+00],\n",
       "        [-1.15458865e+00],\n",
       "        [-1.13079627e+00],\n",
       "        [-1.13079627e+00],\n",
       "        [-1.11813920e+00],\n",
       "        [-4.95816045e-01],\n",
       "        [-4.47281927e-01],\n",
       "        [-4.49653612e-01],\n",
       "        [-4.00833854e-01],\n",
       "        [ 1.13020956e-02],\n",
       "        [ 2.52290644e-01],\n",
       "        [ 4.10402899e-01],\n",
       "        [ 4.71262634e-01],\n",
       "        [ 5.54715867e-01],\n",
       "        [ 5.50959716e-01],\n",
       "        [ 6.64521498e-01],\n",
       "        [ 7.52438995e-01],\n",
       "        [ 8.22669256e-01],\n",
       "        [ 8.56193343e-01],\n",
       "        [ 8.56741314e-01],\n",
       "        [ 8.55802458e-01],\n",
       "        [ 8.55742111e-01],\n",
       "        [ 8.55742111e-01],\n",
       "        [ 8.55742112e-01],\n",
       "        [ 8.55799826e-01],\n",
       "        [ 8.83709239e-01],\n",
       "        [ 9.98836712e-01],\n",
       "        [ 8.82040462e-01],\n",
       "        [ 8.60355827e-01],\n",
       "        [ 8.60123894e-01],\n",
       "        [ 8.60123894e-01],\n",
       "        [ 8.60123894e-01],\n",
       "        [ 8.60227458e-01],\n",
       "        [ 8.60830848e-01],\n",
       "        [ 8.58620828e-01],\n",
       "        [ 8.18345740e-01],\n",
       "        [ 7.32123680e-01],\n",
       "        [ 6.95680750e-01],\n",
       "        [ 6.61360827e-01],\n",
       "        [ 5.93823608e-01],\n",
       "        [ 4.40276610e-01],\n",
       "        [ 3.17047521e-01],\n",
       "        [ 2.43470966e-01],\n",
       "        [-7.03015208e-03],\n",
       "        [-3.52803704e-01],\n",
       "        [-8.79361229e-01],\n",
       "        [-1.34932401e+00]],\n",
       "\n",
       "       [[-2.42850116e+00],\n",
       "        [-2.02970922e+00],\n",
       "        [-1.49690878e+00],\n",
       "        [-1.47804055e+00],\n",
       "        [-1.44532767e+00],\n",
       "        [-8.29551605e-01],\n",
       "        [-7.83685847e-01],\n",
       "        [-7.38459228e-01],\n",
       "        [-2.07955241e-01],\n",
       "        [ 1.36037034e-01],\n",
       "        [ 4.52032526e-01],\n",
       "        [ 6.65314160e-01],\n",
       "        [ 7.80231769e-01],\n",
       "        [ 8.68078100e-01],\n",
       "        [ 9.30907945e-01],\n",
       "        [ 1.08349718e+00],\n",
       "        [ 9.35967230e-01],\n",
       "        [ 8.53071755e-01],\n",
       "        [ 7.97090610e-01],\n",
       "        [ 7.82404280e-01],\n",
       "        [ 7.82361538e-01],\n",
       "        [ 7.82442609e-01],\n",
       "        [ 7.82526523e-01],\n",
       "        [ 7.82558572e-01],\n",
       "        [ 7.82558572e-01],\n",
       "        [ 7.82558572e-01],\n",
       "        [ 7.82558572e-01],\n",
       "        [ 7.82558572e-01],\n",
       "        [ 7.82558572e-01],\n",
       "        [ 7.82552493e-01],\n",
       "        [ 7.82621385e-01],\n",
       "        [ 7.84094591e-01],\n",
       "        [ 7.84816191e-01],\n",
       "        [ 7.66575360e-01],\n",
       "        [ 7.02471965e-01],\n",
       "        [ 6.12978939e-01],\n",
       "        [ 6.10919316e-01],\n",
       "        [ 5.77113682e-01],\n",
       "        [ 4.95536877e-01],\n",
       "        [ 3.59634937e-01],\n",
       "        [ 2.35846233e-01],\n",
       "        [ 1.92782657e-01],\n",
       "        [-3.49573496e-03],\n",
       "        [-1.99390994e-01],\n",
       "        [-5.68425483e-01],\n",
       "        [-6.25799421e-01],\n",
       "        [-1.09868131e+00],\n",
       "        [-1.12807592e+00],\n",
       "        [-1.13767995e+00],\n",
       "        [-1.44914000e+00]],\n",
       "\n",
       "       [[-1.79648299e+00],\n",
       "        [-1.41414121e+00],\n",
       "        [-1.17268053e+00],\n",
       "        [-1.00193004e+00],\n",
       "        [-9.94584073e-01],\n",
       "        [-9.92448640e-01],\n",
       "        [-1.00175412e+00],\n",
       "        [-1.00326001e+00],\n",
       "        [-1.00325386e+00],\n",
       "        [-1.00325404e+00],\n",
       "        [-1.00330103e+00],\n",
       "        [-1.01587301e+00],\n",
       "        [-1.00147209e+00],\n",
       "        [-1.00146734e+00],\n",
       "        [-9.99742896e-01],\n",
       "        [-9.96222284e-01],\n",
       "        [-1.00161587e+00],\n",
       "        [-9.97599568e-01],\n",
       "        [-9.57892539e-01],\n",
       "        [-6.64386239e-01],\n",
       "        [-5.34828345e-01],\n",
       "        [-4.45483239e-01],\n",
       "        [-8.48936051e-02],\n",
       "        [ 5.75208974e-02],\n",
       "        [ 1.15163710e-01],\n",
       "        [ 1.82191908e-01],\n",
       "        [ 3.25013370e-01],\n",
       "        [ 6.49310219e-01],\n",
       "        [ 7.87284313e-01],\n",
       "        [ 1.00072656e+00],\n",
       "        [ 1.16039211e+00],\n",
       "        [ 1.18897143e+00],\n",
       "        [ 1.18873385e+00],\n",
       "        [ 1.18995019e+00],\n",
       "        [ 1.19011595e+00],\n",
       "        [ 1.19011595e+00],\n",
       "        [ 1.21403699e+00],\n",
       "        [ 1.48432601e+00],\n",
       "        [ 1.21403640e+00],\n",
       "        [ 1.16291750e+00],\n",
       "        [ 1.15922681e+00],\n",
       "        [ 1.15874156e+00],\n",
       "        [ 1.11262936e+00],\n",
       "        [ 1.03807639e+00],\n",
       "        [ 8.64842046e-01],\n",
       "        [ 6.37861063e-01],\n",
       "        [ 3.80621637e-01],\n",
       "        [-1.32648929e-05],\n",
       "        [-3.93263660e-01],\n",
       "        [-8.95958244e-01]],\n",
       "\n",
       "       [[-1.67506734e+00],\n",
       "        [-7.70586092e-01],\n",
       "        [-8.27218949e-02],\n",
       "        [ 2.51530681e-01],\n",
       "        [ 7.27768044e-01],\n",
       "        [ 1.14027742e+00],\n",
       "        [ 1.77071939e+00],\n",
       "        [ 1.18769244e+00],\n",
       "        [ 9.35986366e-01],\n",
       "        [ 8.78877362e-01],\n",
       "        [ 8.78439862e-01],\n",
       "        [ 8.78414677e-01],\n",
       "        [ 8.22375172e-01],\n",
       "        [ 8.22016899e-01],\n",
       "        [ 8.35314083e-01],\n",
       "        [ 7.90838515e-01],\n",
       "        [ 4.14899842e-01],\n",
       "        [ 9.17684981e-02],\n",
       "        [-2.65928768e-01],\n",
       "        [-6.14027664e-01],\n",
       "        [-7.82174897e-01],\n",
       "        [-9.42479695e-01],\n",
       "        [-1.42721560e+00],\n",
       "        [-1.04081022e+00],\n",
       "        [-8.83451113e-01],\n",
       "        [-8.76543045e-01],\n",
       "        [-8.76537950e-01],\n",
       "        [-8.82533332e-01],\n",
       "        [-8.91189090e-01],\n",
       "        [-8.95528404e-01],\n",
       "        [-8.97177710e-01],\n",
       "        [-8.96760155e-01],\n",
       "        [-8.89113816e-01],\n",
       "        [-8.37719767e-01],\n",
       "        [-6.77671241e-01],\n",
       "        [-5.35080063e-01],\n",
       "        [-4.08110211e-01],\n",
       "        [-2.10098263e-01],\n",
       "        [ 4.90154759e-02],\n",
       "        [ 6.49056272e-02],\n",
       "        [ 6.49288827e-02],\n",
       "        [ 6.92041482e-02],\n",
       "        [ 7.85324410e-02],\n",
       "        [ 3.39069863e-01],\n",
       "        [ 1.00371338e+00],\n",
       "        [ 3.67705140e-01],\n",
       "        [ 2.82257002e-01],\n",
       "        [ 2.78957663e-01],\n",
       "        [ 1.40791263e-01],\n",
       "        [-4.23692855e-01]]])"
      ]
     },
     "execution_count": 14,
     "metadata": {},
     "output_type": "execute_result"
    }
   ],
   "source": [
    "b.in_kdtw_.centroid_"
   ]
  }
 ],
 "metadata": {
  "kernelspec": {
   "display_name": "Python 3.11.0 ('plethapp')",
   "language": "python",
   "name": "python3"
  },
  "language_info": {
   "codemirror_mode": {
    "name": "ipython",
    "version": 3
   },
   "file_extension": ".py",
   "mimetype": "text/x-python",
   "name": "python",
   "nbconvert_exporter": "python",
   "pygments_lexer": "ipython3",
   "version": "3.11.0 | packaged by conda-forge | (main, Oct 25 2022, 06:21:25) [Clang 14.0.4 ]"
  },
  "orig_nbformat": 4,
  "vscode": {
   "interpreter": {
    "hash": "607d33dffe04f726ca1836534eb3e8f814a9478abdec20ce676a8ccbca46d0d1"
   }
  }
 },
 "nbformat": 4,
 "nbformat_minor": 2
}
